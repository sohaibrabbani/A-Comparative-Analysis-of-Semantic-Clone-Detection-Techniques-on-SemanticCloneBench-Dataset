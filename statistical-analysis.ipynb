{
  "nbformat": 4,
  "nbformat_minor": 0,
  "metadata": {
    "colab": {
      "name": "Python Works.ipynb",
      "provenance": [],
      "collapsed_sections": [
        "glUlRSqxb-kU",
        "LqAsVdDG6g1z"
      ]
    },
    "kernelspec": {
      "name": "python3",
      "display_name": "Python 3"
    },
    "language_info": {
      "name": "python"
    }
  },
  "cells": [
    {
      "cell_type": "code",
      "execution_count": null,
      "metadata": {
        "id": "vv8LNjQjBohQ"
      },
      "outputs": [],
      "source": [
        "import pandas as pd\n",
        "import numpy as np"
      ]
    },
    {
      "cell_type": "code",
      "source": [
        "df = pd.read_csv(\"/content/scb_processed_results.csv\")\n",
        "df = df[df.columns[1:]]"
      ],
      "metadata": {
        "id": "81RFJugC4H8p"
      },
      "execution_count": null,
      "outputs": []
    },
    {
      "cell_type": "code",
      "source": [
        "df.head()"
      ],
      "metadata": {
        "colab": {
          "base_uri": "https://localhost:8080/",
          "height": 250
        },
        "id": "BT10t8u54h9g",
        "outputId": "366673fc-6842-400b-b3bd-fe987ff13769"
      },
      "execution_count": null,
      "outputs": [
        {
          "output_type": "execute_result",
          "data": {
            "text/plain": [
              "   clone_pair_id  facer_prediction  nil_prediction  code_bert_prediction\n",
              "0    clone0.java                 1               0                     0\n",
              "1    clone1.java                 0               0                     1\n",
              "2   clone10.java                 0               0                     1\n",
              "3  clone100.java                 1               0                     1\n",
              "4  clone101.java                 1               0                     1"
            ],
            "text/html": [
              "\n",
              "  <div id=\"df-368f9234-e707-4d84-8030-6610141307d7\">\n",
              "    <div class=\"colab-df-container\">\n",
              "      <div>\n",
              "<style scoped>\n",
              "    .dataframe tbody tr th:only-of-type {\n",
              "        vertical-align: middle;\n",
              "    }\n",
              "\n",
              "    .dataframe tbody tr th {\n",
              "        vertical-align: top;\n",
              "    }\n",
              "\n",
              "    .dataframe thead th {\n",
              "        text-align: right;\n",
              "    }\n",
              "</style>\n",
              "<table border=\"1\" class=\"dataframe\">\n",
              "  <thead>\n",
              "    <tr style=\"text-align: right;\">\n",
              "      <th></th>\n",
              "      <th>clone_pair_id</th>\n",
              "      <th>facer_prediction</th>\n",
              "      <th>nil_prediction</th>\n",
              "      <th>code_bert_prediction</th>\n",
              "    </tr>\n",
              "  </thead>\n",
              "  <tbody>\n",
              "    <tr>\n",
              "      <th>0</th>\n",
              "      <td>clone0.java</td>\n",
              "      <td>1</td>\n",
              "      <td>0</td>\n",
              "      <td>0</td>\n",
              "    </tr>\n",
              "    <tr>\n",
              "      <th>1</th>\n",
              "      <td>clone1.java</td>\n",
              "      <td>0</td>\n",
              "      <td>0</td>\n",
              "      <td>1</td>\n",
              "    </tr>\n",
              "    <tr>\n",
              "      <th>2</th>\n",
              "      <td>clone10.java</td>\n",
              "      <td>0</td>\n",
              "      <td>0</td>\n",
              "      <td>1</td>\n",
              "    </tr>\n",
              "    <tr>\n",
              "      <th>3</th>\n",
              "      <td>clone100.java</td>\n",
              "      <td>1</td>\n",
              "      <td>0</td>\n",
              "      <td>1</td>\n",
              "    </tr>\n",
              "    <tr>\n",
              "      <th>4</th>\n",
              "      <td>clone101.java</td>\n",
              "      <td>1</td>\n",
              "      <td>0</td>\n",
              "      <td>1</td>\n",
              "    </tr>\n",
              "  </tbody>\n",
              "</table>\n",
              "</div>\n",
              "      <button class=\"colab-df-convert\" onclick=\"convertToInteractive('df-368f9234-e707-4d84-8030-6610141307d7')\"\n",
              "              title=\"Convert this dataframe to an interactive table.\"\n",
              "              style=\"display:none;\">\n",
              "        \n",
              "  <svg xmlns=\"http://www.w3.org/2000/svg\" height=\"24px\"viewBox=\"0 0 24 24\"\n",
              "       width=\"24px\">\n",
              "    <path d=\"M0 0h24v24H0V0z\" fill=\"none\"/>\n",
              "    <path d=\"M18.56 5.44l.94 2.06.94-2.06 2.06-.94-2.06-.94-.94-2.06-.94 2.06-2.06.94zm-11 1L8.5 8.5l.94-2.06 2.06-.94-2.06-.94L8.5 2.5l-.94 2.06-2.06.94zm10 10l.94 2.06.94-2.06 2.06-.94-2.06-.94-.94-2.06-.94 2.06-2.06.94z\"/><path d=\"M17.41 7.96l-1.37-1.37c-.4-.4-.92-.59-1.43-.59-.52 0-1.04.2-1.43.59L10.3 9.45l-7.72 7.72c-.78.78-.78 2.05 0 2.83L4 21.41c.39.39.9.59 1.41.59.51 0 1.02-.2 1.41-.59l7.78-7.78 2.81-2.81c.8-.78.8-2.07 0-2.86zM5.41 20L4 18.59l7.72-7.72 1.47 1.35L5.41 20z\"/>\n",
              "  </svg>\n",
              "      </button>\n",
              "      \n",
              "  <style>\n",
              "    .colab-df-container {\n",
              "      display:flex;\n",
              "      flex-wrap:wrap;\n",
              "      gap: 12px;\n",
              "    }\n",
              "\n",
              "    .colab-df-convert {\n",
              "      background-color: #E8F0FE;\n",
              "      border: none;\n",
              "      border-radius: 50%;\n",
              "      cursor: pointer;\n",
              "      display: none;\n",
              "      fill: #1967D2;\n",
              "      height: 32px;\n",
              "      padding: 0 0 0 0;\n",
              "      width: 32px;\n",
              "    }\n",
              "\n",
              "    .colab-df-convert:hover {\n",
              "      background-color: #E2EBFA;\n",
              "      box-shadow: 0px 1px 2px rgba(60, 64, 67, 0.3), 0px 1px 3px 1px rgba(60, 64, 67, 0.15);\n",
              "      fill: #174EA6;\n",
              "    }\n",
              "\n",
              "    [theme=dark] .colab-df-convert {\n",
              "      background-color: #3B4455;\n",
              "      fill: #D2E3FC;\n",
              "    }\n",
              "\n",
              "    [theme=dark] .colab-df-convert:hover {\n",
              "      background-color: #434B5C;\n",
              "      box-shadow: 0px 1px 3px 1px rgba(0, 0, 0, 0.15);\n",
              "      filter: drop-shadow(0px 1px 2px rgba(0, 0, 0, 0.3));\n",
              "      fill: #FFFFFF;\n",
              "    }\n",
              "  </style>\n",
              "\n",
              "      <script>\n",
              "        const buttonEl =\n",
              "          document.querySelector('#df-368f9234-e707-4d84-8030-6610141307d7 button.colab-df-convert');\n",
              "        buttonEl.style.display =\n",
              "          google.colab.kernel.accessAllowed ? 'block' : 'none';\n",
              "\n",
              "        async function convertToInteractive(key) {\n",
              "          const element = document.querySelector('#df-368f9234-e707-4d84-8030-6610141307d7');\n",
              "          const dataTable =\n",
              "            await google.colab.kernel.invokeFunction('convertToInteractive',\n",
              "                                                     [key], {});\n",
              "          if (!dataTable) return;\n",
              "\n",
              "          const docLinkHtml = 'Like what you see? Visit the ' +\n",
              "            '<a target=\"_blank\" href=https://colab.research.google.com/notebooks/data_table.ipynb>data table notebook</a>'\n",
              "            + ' to learn more about interactive tables.';\n",
              "          element.innerHTML = '';\n",
              "          dataTable['output_type'] = 'display_data';\n",
              "          await google.colab.output.renderOutput(dataTable, element);\n",
              "          const docLink = document.createElement('div');\n",
              "          docLink.innerHTML = docLinkHtml;\n",
              "          element.appendChild(docLink);\n",
              "        }\n",
              "      </script>\n",
              "    </div>\n",
              "  </div>\n",
              "  "
            ]
          },
          "metadata": {},
          "execution_count": 11
        }
      ]
    },
    {
      "cell_type": "code",
      "source": [
        "fcn = {}\n",
        "for f in [0,1]:\n",
        "  for cb in [0,1]:\n",
        "    for nil in [0,1]:\n",
        "      with open(f'/content/drive/MyDrive/code-clone-detection-paper/exhaustive-count/{f}{cb}{nil}.txt', 'w') as file:\n",
        "        clone_ids = df.loc[(df[\"facer_prediction\"] == f) & (df[\"code_bert_prediction\"] == cb) & (df[\"nil_prediction\"] == nil), \"clone_pair_id\"].tolist()\n",
        "        file.write(\"\\n\".join(clone_ids))\n",
        "        fcn[f'{f}{cb}{nil}'] = len(clone_ids)"
      ],
      "metadata": {
        "id": "YeurpE3hnnLr"
      },
      "execution_count": null,
      "outputs": []
    },
    {
      "cell_type": "code",
      "source": [
        "fcn"
      ],
      "metadata": {
        "colab": {
          "base_uri": "https://localhost:8080/"
        },
        "id": "YzDMdy-VnnG0",
        "outputId": "e11c4c09-de3d-44ff-9b12-d1cfb289475b"
      },
      "execution_count": null,
      "outputs": [
        {
          "output_type": "execute_result",
          "data": {
            "text/plain": [
              "{'000': 45,\n",
              " '001': 9,\n",
              " '010': 255,\n",
              " '011': 48,\n",
              " '100': 103,\n",
              " '101': 11,\n",
              " '110': 470,\n",
              " '111': 59}"
            ]
          },
          "metadata": {},
          "execution_count": 20
        }
      ]
    },
    {
      "cell_type": "code",
      "source": [
        "df.loc[(df[\"clone_pair_id\"] == \"clone16.java\")]"
      ],
      "metadata": {
        "colab": {
          "base_uri": "https://localhost:8080/",
          "height": 125
        },
        "id": "uk3i4spPePAn",
        "outputId": "0987165e-4284-431c-e83e-0637ee8e7549"
      },
      "execution_count": null,
      "outputs": [
        {
          "output_type": "execute_result",
          "data": {
            "text/plain": [
              "   clone_pair_id  facer_prediction  code_bert_prediction  nil_prediction\n",
              "16  clone16.java                 1                     1               1"
            ],
            "text/html": [
              "\n",
              "  <div id=\"df-0f35a443-0f33-4959-aea3-fb79732d0f8d\">\n",
              "    <div class=\"colab-df-container\">\n",
              "      <div>\n",
              "<style scoped>\n",
              "    .dataframe tbody tr th:only-of-type {\n",
              "        vertical-align: middle;\n",
              "    }\n",
              "\n",
              "    .dataframe tbody tr th {\n",
              "        vertical-align: top;\n",
              "    }\n",
              "\n",
              "    .dataframe thead th {\n",
              "        text-align: right;\n",
              "    }\n",
              "</style>\n",
              "<table border=\"1\" class=\"dataframe\">\n",
              "  <thead>\n",
              "    <tr style=\"text-align: right;\">\n",
              "      <th></th>\n",
              "      <th>clone_pair_id</th>\n",
              "      <th>facer_prediction</th>\n",
              "      <th>code_bert_prediction</th>\n",
              "      <th>nil_prediction</th>\n",
              "    </tr>\n",
              "  </thead>\n",
              "  <tbody>\n",
              "    <tr>\n",
              "      <th>16</th>\n",
              "      <td>clone16.java</td>\n",
              "      <td>1</td>\n",
              "      <td>1</td>\n",
              "      <td>1</td>\n",
              "    </tr>\n",
              "  </tbody>\n",
              "</table>\n",
              "</div>\n",
              "      <button class=\"colab-df-convert\" onclick=\"convertToInteractive('df-0f35a443-0f33-4959-aea3-fb79732d0f8d')\"\n",
              "              title=\"Convert this dataframe to an interactive table.\"\n",
              "              style=\"display:none;\">\n",
              "        \n",
              "  <svg xmlns=\"http://www.w3.org/2000/svg\" height=\"24px\"viewBox=\"0 0 24 24\"\n",
              "       width=\"24px\">\n",
              "    <path d=\"M0 0h24v24H0V0z\" fill=\"none\"/>\n",
              "    <path d=\"M18.56 5.44l.94 2.06.94-2.06 2.06-.94-2.06-.94-.94-2.06-.94 2.06-2.06.94zm-11 1L8.5 8.5l.94-2.06 2.06-.94-2.06-.94L8.5 2.5l-.94 2.06-2.06.94zm10 10l.94 2.06.94-2.06 2.06-.94-2.06-.94-.94-2.06-.94 2.06-2.06.94z\"/><path d=\"M17.41 7.96l-1.37-1.37c-.4-.4-.92-.59-1.43-.59-.52 0-1.04.2-1.43.59L10.3 9.45l-7.72 7.72c-.78.78-.78 2.05 0 2.83L4 21.41c.39.39.9.59 1.41.59.51 0 1.02-.2 1.41-.59l7.78-7.78 2.81-2.81c.8-.78.8-2.07 0-2.86zM5.41 20L4 18.59l7.72-7.72 1.47 1.35L5.41 20z\"/>\n",
              "  </svg>\n",
              "      </button>\n",
              "      \n",
              "  <style>\n",
              "    .colab-df-container {\n",
              "      display:flex;\n",
              "      flex-wrap:wrap;\n",
              "      gap: 12px;\n",
              "    }\n",
              "\n",
              "    .colab-df-convert {\n",
              "      background-color: #E8F0FE;\n",
              "      border: none;\n",
              "      border-radius: 50%;\n",
              "      cursor: pointer;\n",
              "      display: none;\n",
              "      fill: #1967D2;\n",
              "      height: 32px;\n",
              "      padding: 0 0 0 0;\n",
              "      width: 32px;\n",
              "    }\n",
              "\n",
              "    .colab-df-convert:hover {\n",
              "      background-color: #E2EBFA;\n",
              "      box-shadow: 0px 1px 2px rgba(60, 64, 67, 0.3), 0px 1px 3px 1px rgba(60, 64, 67, 0.15);\n",
              "      fill: #174EA6;\n",
              "    }\n",
              "\n",
              "    [theme=dark] .colab-df-convert {\n",
              "      background-color: #3B4455;\n",
              "      fill: #D2E3FC;\n",
              "    }\n",
              "\n",
              "    [theme=dark] .colab-df-convert:hover {\n",
              "      background-color: #434B5C;\n",
              "      box-shadow: 0px 1px 3px 1px rgba(0, 0, 0, 0.15);\n",
              "      filter: drop-shadow(0px 1px 2px rgba(0, 0, 0, 0.3));\n",
              "      fill: #FFFFFF;\n",
              "    }\n",
              "  </style>\n",
              "\n",
              "      <script>\n",
              "        const buttonEl =\n",
              "          document.querySelector('#df-0f35a443-0f33-4959-aea3-fb79732d0f8d button.colab-df-convert');\n",
              "        buttonEl.style.display =\n",
              "          google.colab.kernel.accessAllowed ? 'block' : 'none';\n",
              "\n",
              "        async function convertToInteractive(key) {\n",
              "          const element = document.querySelector('#df-0f35a443-0f33-4959-aea3-fb79732d0f8d');\n",
              "          const dataTable =\n",
              "            await google.colab.kernel.invokeFunction('convertToInteractive',\n",
              "                                                     [key], {});\n",
              "          if (!dataTable) return;\n",
              "\n",
              "          const docLinkHtml = 'Like what you see? Visit the ' +\n",
              "            '<a target=\"_blank\" href=https://colab.research.google.com/notebooks/data_table.ipynb>data table notebook</a>'\n",
              "            + ' to learn more about interactive tables.';\n",
              "          element.innerHTML = '';\n",
              "          dataTable['output_type'] = 'display_data';\n",
              "          await google.colab.output.renderOutput(dataTable, element);\n",
              "          const docLink = document.createElement('div');\n",
              "          docLink.innerHTML = docLinkHtml;\n",
              "          element.appendChild(docLink);\n",
              "        }\n",
              "      </script>\n",
              "    </div>\n",
              "  </div>\n",
              "  "
            ]
          },
          "metadata": {},
          "execution_count": 9
        }
      ]
    },
    {
      "cell_type": "code",
      "source": [
        "df.loc[(df[\"facer_prediction\"] == 1) & (df[\"code_bert_prediction\"] == 1) & (df[\"nil_prediction\"] == 0), \"clone_pair_id\"]"
      ],
      "metadata": {
        "colab": {
          "base_uri": "https://localhost:8080/"
        },
        "id": "R2e4qraK4QaJ",
        "outputId": "985e9265-5de1-40ce-ff03-be5201f3119e"
      },
      "execution_count": null,
      "outputs": [
        {
          "output_type": "execute_result",
          "data": {
            "text/plain": [
              "3      clone100.java\n",
              "4      clone101.java\n",
              "7      clone104.java\n",
              "8      clone105.java\n",
              "10     clone107.java\n",
              "           ...      \n",
              "995    clone995.java\n",
              "996    clone996.java\n",
              "997    clone997.java\n",
              "998    clone998.java\n",
              "999    clone999.java\n",
              "Name: clone_pair_id, Length: 470, dtype: object"
            ]
          },
          "metadata": {},
          "execution_count": 12
        }
      ]
    },
    {
      "cell_type": "code",
      "source": [
        "# a = df.loc[(df[\"facer_prediction\"] == 1) & (df[\"code_bert_prediction\"] == 1) & (df[\"nil_prediction\"] == 0), \"clone_pair_id\"]\n",
        "a.tolist()"
      ],
      "metadata": {
        "colab": {
          "base_uri": "https://localhost:8080/"
        },
        "id": "N_30sGAxomvf",
        "outputId": "781b0e88-4816-4a84-bda0-229ac6f0b500"
      },
      "execution_count": null,
      "outputs": [
        {
          "output_type": "execute_result",
          "data": {
            "text/plain": [
              "['clone100.java',\n",
              " 'clone101.java',\n",
              " 'clone104.java',\n",
              " 'clone105.java',\n",
              " 'clone107.java',\n",
              " 'clone108.java',\n",
              " 'clone109.java',\n",
              " 'clone117.java',\n",
              " 'clone118.java',\n",
              " 'clone119.java',\n",
              " 'clone120.java',\n",
              " 'clone121.java',\n",
              " 'clone122.java',\n",
              " 'clone123.java',\n",
              " 'clone13.java',\n",
              " 'clone130.java',\n",
              " 'clone131.java',\n",
              " 'clone132.java',\n",
              " 'clone134.java',\n",
              " 'clone136.java',\n",
              " 'clone138.java',\n",
              " 'clone139.java',\n",
              " 'clone14.java',\n",
              " 'clone140.java',\n",
              " 'clone143.java',\n",
              " 'clone149.java',\n",
              " 'clone15.java',\n",
              " 'clone151.java',\n",
              " 'clone152.java',\n",
              " 'clone153.java',\n",
              " 'clone154.java',\n",
              " 'clone155.java',\n",
              " 'clone156.java',\n",
              " 'clone157.java',\n",
              " 'clone158.java',\n",
              " 'clone162.java',\n",
              " 'clone167.java',\n",
              " 'clone168.java',\n",
              " 'clone169.java',\n",
              " 'clone170.java',\n",
              " 'clone171.java',\n",
              " 'clone172.java',\n",
              " 'clone173.java',\n",
              " 'clone174.java',\n",
              " 'clone175.java',\n",
              " 'clone179.java',\n",
              " 'clone18.java',\n",
              " 'clone180.java',\n",
              " 'clone182.java',\n",
              " 'clone184.java',\n",
              " 'clone185.java',\n",
              " 'clone186.java',\n",
              " 'clone187.java',\n",
              " 'clone188.java',\n",
              " 'clone189.java',\n",
              " 'clone19.java',\n",
              " 'clone191.java',\n",
              " 'clone192.java',\n",
              " 'clone195.java',\n",
              " 'clone196.java',\n",
              " 'clone198.java',\n",
              " 'clone199.java',\n",
              " 'clone2.java',\n",
              " 'clone20.java',\n",
              " 'clone200.java',\n",
              " 'clone211.java',\n",
              " 'clone214.java',\n",
              " 'clone216.java',\n",
              " 'clone217.java',\n",
              " 'clone218.java',\n",
              " 'clone219.java',\n",
              " 'clone22.java',\n",
              " 'clone220.java',\n",
              " 'clone221.java',\n",
              " 'clone222.java',\n",
              " 'clone24.java',\n",
              " 'clone248.java',\n",
              " 'clone250.java',\n",
              " 'clone251.java',\n",
              " 'clone252.java',\n",
              " 'clone256.java',\n",
              " 'clone258.java',\n",
              " 'clone259.java',\n",
              " 'clone273.java',\n",
              " 'clone275.java',\n",
              " 'clone277.java',\n",
              " 'clone279.java',\n",
              " 'clone282.java',\n",
              " 'clone283.java',\n",
              " 'clone288.java',\n",
              " 'clone290.java',\n",
              " 'clone292.java',\n",
              " 'clone3.java',\n",
              " 'clone30.java',\n",
              " 'clone301.java',\n",
              " 'clone306.java',\n",
              " 'clone307.java',\n",
              " 'clone31.java',\n",
              " 'clone312.java',\n",
              " 'clone313.java',\n",
              " 'clone314.java',\n",
              " 'clone316.java',\n",
              " 'clone318.java',\n",
              " 'clone319.java',\n",
              " 'clone32.java',\n",
              " 'clone320.java',\n",
              " 'clone322.java',\n",
              " 'clone326.java',\n",
              " 'clone327.java',\n",
              " 'clone328.java',\n",
              " 'clone330.java',\n",
              " 'clone331.java',\n",
              " 'clone332.java',\n",
              " 'clone333.java',\n",
              " 'clone339.java',\n",
              " 'clone340.java',\n",
              " 'clone341.java',\n",
              " 'clone342.java',\n",
              " 'clone344.java',\n",
              " 'clone347.java',\n",
              " 'clone348.java',\n",
              " 'clone349.java',\n",
              " 'clone350.java',\n",
              " 'clone356.java',\n",
              " 'clone361.java',\n",
              " 'clone363.java',\n",
              " 'clone367.java',\n",
              " 'clone368.java',\n",
              " 'clone369.java',\n",
              " 'clone370.java',\n",
              " 'clone372.java',\n",
              " 'clone373.java',\n",
              " 'clone374.java',\n",
              " 'clone376.java',\n",
              " 'clone379.java',\n",
              " 'clone380.java',\n",
              " 'clone381.java',\n",
              " 'clone382.java',\n",
              " 'clone383.java',\n",
              " 'clone393.java',\n",
              " 'clone396.java',\n",
              " 'clone397.java',\n",
              " 'clone401.java',\n",
              " 'clone405.java',\n",
              " 'clone406.java',\n",
              " 'clone407.java',\n",
              " 'clone409.java',\n",
              " 'clone410.java',\n",
              " 'clone411.java',\n",
              " 'clone413.java',\n",
              " 'clone414.java',\n",
              " 'clone415.java',\n",
              " 'clone416.java',\n",
              " 'clone419.java',\n",
              " 'clone42.java',\n",
              " 'clone420.java',\n",
              " 'clone421.java',\n",
              " 'clone424.java',\n",
              " 'clone425.java',\n",
              " 'clone426.java',\n",
              " 'clone427.java',\n",
              " 'clone428.java',\n",
              " 'clone429.java',\n",
              " 'clone431.java',\n",
              " 'clone432.java',\n",
              " 'clone434.java',\n",
              " 'clone436.java',\n",
              " 'clone437.java',\n",
              " 'clone438.java',\n",
              " 'clone439.java',\n",
              " 'clone440.java',\n",
              " 'clone444.java',\n",
              " 'clone445.java',\n",
              " 'clone446.java',\n",
              " 'clone447.java',\n",
              " 'clone448.java',\n",
              " 'clone449.java',\n",
              " 'clone450.java',\n",
              " 'clone451.java',\n",
              " 'clone452.java',\n",
              " 'clone454.java',\n",
              " 'clone456.java',\n",
              " 'clone458.java',\n",
              " 'clone460.java',\n",
              " 'clone461.java',\n",
              " 'clone463.java',\n",
              " 'clone464.java',\n",
              " 'clone467.java',\n",
              " 'clone468.java',\n",
              " 'clone469.java',\n",
              " 'clone470.java',\n",
              " 'clone471.java',\n",
              " 'clone472.java',\n",
              " 'clone473.java',\n",
              " 'clone474.java',\n",
              " 'clone476.java',\n",
              " 'clone478.java',\n",
              " 'clone479.java',\n",
              " 'clone481.java',\n",
              " 'clone482.java',\n",
              " 'clone483.java',\n",
              " 'clone484.java',\n",
              " 'clone486.java',\n",
              " 'clone487.java',\n",
              " 'clone490.java',\n",
              " 'clone491.java',\n",
              " 'clone497.java',\n",
              " 'clone499.java',\n",
              " 'clone5.java',\n",
              " 'clone500.java',\n",
              " 'clone501.java',\n",
              " 'clone502.java',\n",
              " 'clone506.java',\n",
              " 'clone508.java',\n",
              " 'clone509.java',\n",
              " 'clone51.java',\n",
              " 'clone511.java',\n",
              " 'clone514.java',\n",
              " 'clone516.java',\n",
              " 'clone519.java',\n",
              " 'clone521.java',\n",
              " 'clone522.java',\n",
              " 'clone523.java',\n",
              " 'clone525.java',\n",
              " 'clone528.java',\n",
              " 'clone529.java',\n",
              " 'clone53.java',\n",
              " 'clone530.java',\n",
              " 'clone531.java',\n",
              " 'clone534.java',\n",
              " 'clone536.java',\n",
              " 'clone537.java',\n",
              " 'clone540.java',\n",
              " 'clone542.java',\n",
              " 'clone543.java',\n",
              " 'clone544.java',\n",
              " 'clone545.java',\n",
              " 'clone546.java',\n",
              " 'clone55.java',\n",
              " 'clone553.java',\n",
              " 'clone56.java',\n",
              " 'clone563.java',\n",
              " 'clone564.java',\n",
              " 'clone566.java',\n",
              " 'clone567.java',\n",
              " 'clone57.java',\n",
              " 'clone574.java',\n",
              " 'clone58.java',\n",
              " 'clone581.java',\n",
              " 'clone582.java',\n",
              " 'clone583.java',\n",
              " 'clone587.java',\n",
              " 'clone589.java',\n",
              " 'clone59.java',\n",
              " 'clone590.java',\n",
              " 'clone593.java',\n",
              " 'clone596.java',\n",
              " 'clone599.java',\n",
              " 'clone6.java',\n",
              " 'clone604.java',\n",
              " 'clone606.java',\n",
              " 'clone607.java',\n",
              " 'clone608.java',\n",
              " 'clone610.java',\n",
              " 'clone611.java',\n",
              " 'clone62.java',\n",
              " 'clone621.java',\n",
              " 'clone622.java',\n",
              " 'clone623.java',\n",
              " 'clone624.java',\n",
              " 'clone626.java',\n",
              " 'clone627.java',\n",
              " 'clone628.java',\n",
              " 'clone629.java',\n",
              " 'clone63.java',\n",
              " 'clone630.java',\n",
              " 'clone631.java',\n",
              " 'clone632.java',\n",
              " 'clone641.java',\n",
              " 'clone642.java',\n",
              " 'clone643.java',\n",
              " 'clone644.java',\n",
              " 'clone645.java',\n",
              " 'clone646.java',\n",
              " 'clone647.java',\n",
              " 'clone648.java',\n",
              " 'clone65.java',\n",
              " 'clone655.java',\n",
              " 'clone656.java',\n",
              " 'clone658.java',\n",
              " 'clone662.java',\n",
              " 'clone663.java',\n",
              " 'clone664.java',\n",
              " 'clone665.java',\n",
              " 'clone666.java',\n",
              " 'clone669.java',\n",
              " 'clone670.java',\n",
              " 'clone671.java',\n",
              " 'clone672.java',\n",
              " 'clone673.java',\n",
              " 'clone674.java',\n",
              " 'clone675.java',\n",
              " 'clone676.java',\n",
              " 'clone677.java',\n",
              " 'clone678.java',\n",
              " 'clone68.java',\n",
              " 'clone680.java',\n",
              " 'clone681.java',\n",
              " 'clone685.java',\n",
              " 'clone692.java',\n",
              " 'clone696.java',\n",
              " 'clone697.java',\n",
              " 'clone698.java',\n",
              " 'clone699.java',\n",
              " 'clone7.java',\n",
              " 'clone70.java',\n",
              " 'clone700.java',\n",
              " 'clone716.java',\n",
              " 'clone72.java',\n",
              " 'clone721.java',\n",
              " 'clone725.java',\n",
              " 'clone727.java',\n",
              " 'clone728.java',\n",
              " 'clone729.java',\n",
              " 'clone73.java',\n",
              " 'clone730.java',\n",
              " 'clone731.java',\n",
              " 'clone732.java',\n",
              " 'clone733.java',\n",
              " 'clone734.java',\n",
              " 'clone74.java',\n",
              " 'clone741.java',\n",
              " 'clone742.java',\n",
              " 'clone746.java',\n",
              " 'clone748.java',\n",
              " 'clone749.java',\n",
              " 'clone75.java',\n",
              " 'clone750.java',\n",
              " 'clone751.java',\n",
              " 'clone752.java',\n",
              " 'clone756.java',\n",
              " 'clone757.java',\n",
              " 'clone758.java',\n",
              " 'clone76.java',\n",
              " 'clone764.java',\n",
              " 'clone765.java',\n",
              " 'clone766.java',\n",
              " 'clone767.java',\n",
              " 'clone77.java',\n",
              " 'clone771.java',\n",
              " 'clone772.java',\n",
              " 'clone773.java',\n",
              " 'clone776.java',\n",
              " 'clone777.java',\n",
              " 'clone779.java',\n",
              " 'clone78.java',\n",
              " 'clone782.java',\n",
              " 'clone783.java',\n",
              " 'clone784.java',\n",
              " 'clone785.java',\n",
              " 'clone793.java',\n",
              " 'clone794.java',\n",
              " 'clone796.java',\n",
              " 'clone797.java',\n",
              " 'clone798.java',\n",
              " 'clone8.java',\n",
              " 'clone800.java',\n",
              " 'clone801.java',\n",
              " 'clone803.java',\n",
              " 'clone804.java',\n",
              " 'clone806.java',\n",
              " 'clone807.java',\n",
              " 'clone81.java',\n",
              " 'clone810.java',\n",
              " 'clone811.java',\n",
              " 'clone817.java',\n",
              " 'clone818.java',\n",
              " 'clone819.java',\n",
              " 'clone82.java',\n",
              " 'clone83.java',\n",
              " 'clone831.java',\n",
              " 'clone832.java',\n",
              " 'clone833.java',\n",
              " 'clone840.java',\n",
              " 'clone841.java',\n",
              " 'clone847.java',\n",
              " 'clone848.java',\n",
              " 'clone849.java',\n",
              " 'clone85.java',\n",
              " 'clone852.java',\n",
              " 'clone862.java',\n",
              " 'clone863.java',\n",
              " 'clone864.java',\n",
              " 'clone871.java',\n",
              " 'clone877.java',\n",
              " 'clone878.java',\n",
              " 'clone879.java',\n",
              " 'clone883.java',\n",
              " 'clone885.java',\n",
              " 'clone886.java',\n",
              " 'clone889.java',\n",
              " 'clone890.java',\n",
              " 'clone892.java',\n",
              " 'clone893.java',\n",
              " 'clone895.java',\n",
              " 'clone897.java',\n",
              " 'clone900.java',\n",
              " 'clone902.java',\n",
              " 'clone903.java',\n",
              " 'clone905.java',\n",
              " 'clone910.java',\n",
              " 'clone911.java',\n",
              " 'clone912.java',\n",
              " 'clone917.java',\n",
              " 'clone919.java',\n",
              " 'clone920.java',\n",
              " 'clone921.java',\n",
              " 'clone926.java',\n",
              " 'clone930.java',\n",
              " 'clone932.java',\n",
              " 'clone935.java',\n",
              " 'clone936.java',\n",
              " 'clone939.java',\n",
              " 'clone94.java',\n",
              " 'clone943.java',\n",
              " 'clone944.java',\n",
              " 'clone945.java',\n",
              " 'clone947.java',\n",
              " 'clone949.java',\n",
              " 'clone95.java',\n",
              " 'clone950.java',\n",
              " 'clone956.java',\n",
              " 'clone96.java',\n",
              " 'clone963.java',\n",
              " 'clone964.java',\n",
              " 'clone965.java',\n",
              " 'clone966.java',\n",
              " 'clone967.java',\n",
              " 'clone968.java',\n",
              " 'clone969.java',\n",
              " 'clone97.java',\n",
              " 'clone970.java',\n",
              " 'clone971.java',\n",
              " 'clone972.java',\n",
              " 'clone973.java',\n",
              " 'clone974.java',\n",
              " 'clone975.java',\n",
              " 'clone977.java',\n",
              " 'clone978.java',\n",
              " 'clone979.java',\n",
              " 'clone98.java',\n",
              " 'clone980.java',\n",
              " 'clone981.java',\n",
              " 'clone982.java',\n",
              " 'clone985.java',\n",
              " 'clone986.java',\n",
              " 'clone987.java',\n",
              " 'clone988.java',\n",
              " 'clone989.java',\n",
              " 'clone99.java',\n",
              " 'clone990.java',\n",
              " 'clone991.java',\n",
              " 'clone992.java',\n",
              " 'clone993.java',\n",
              " 'clone994.java',\n",
              " 'clone995.java',\n",
              " 'clone996.java',\n",
              " 'clone997.java',\n",
              " 'clone998.java',\n",
              " 'clone999.java']"
            ]
          },
          "metadata": {},
          "execution_count": 15
        }
      ]
    },
    {
      "cell_type": "code",
      "source": [
        "code_bert_df = pd.read_csv('scb_code_bert_results.csv')\n",
        "facer_df = pd.read_csv('scb_facer_results.csv')\n",
        "nil_df = pd.read_csv('scb_nil_results.csv')"
      ],
      "metadata": {
        "id": "bQr25ZslcFv_"
      },
      "execution_count": null,
      "outputs": []
    },
    {
      "cell_type": "code",
      "source": [
        "# dir_A,file_A,start_line_A,end_line_A,dir_B,file_B,start_line_B,end_line_B\n",
        "nil_df.columns = [\"dir_A\",\"file_A\",\"start_line_A\",\"end_line_A\",\"dir_B\",\"file_B\",\"start_line_B\",\"end_line_B\"]\n",
        "nil_df = nil_df[[\"file_A\",\"start_line_A\",\"end_line_A\",\"file_B\",\"start_line_B\",\"end_line_B\"]]\n",
        "nil_df = nil_df[nil_df[\"file_A\"] == nil_df[\"file_B\"]]"
      ],
      "metadata": {
        "id": "fioyPzuWcdsc"
      },
      "execution_count": null,
      "outputs": []
    },
    {
      "cell_type": "code",
      "source": [
        "nil_df = nil_df[['file_A']]\n",
        "nil_df['prediction'] = [1]*len(nil_df)"
      ],
      "metadata": {
        "id": "u8e76DlneI23"
      },
      "execution_count": null,
      "outputs": []
    },
    {
      "cell_type": "code",
      "source": [
        "scb_ground_df = pd.read_csv(\"scb_ground.csv\")"
      ],
      "metadata": {
        "id": "379LufuwhFP-"
      },
      "execution_count": null,
      "outputs": []
    },
    {
      "cell_type": "code",
      "source": [
        "facer_df[\"file\"] = scb_ground_df[\"class_ids\"]"
      ],
      "metadata": {
        "id": "rq0ezQUWhND1"
      },
      "execution_count": null,
      "outputs": []
    },
    {
      "cell_type": "code",
      "source": [
        "facer_df = facer_df[[\"file\", \"is_clone\"]]"
      ],
      "metadata": {
        "id": "RV0xl8XwhcyM"
      },
      "execution_count": null,
      "outputs": []
    },
    {
      "cell_type": "code",
      "source": [
        "print(f\"count Code Bert: {len(code_bert_df)}\")\n",
        "print(f\"count FACER: {len(facer_df)}\")\n",
        "print(f\"count NIL: {len(nil_df)}\")"
      ],
      "metadata": {
        "colab": {
          "base_uri": "https://localhost:8080/"
        },
        "id": "StgAAQSZcdwZ",
        "outputId": "a66c879a-965c-4d66-e842-20e020573ac0"
      },
      "execution_count": null,
      "outputs": [
        {
          "output_type": "stream",
          "name": "stdout",
          "text": [
            "count Code Bert: 1000\n",
            "count FACER: 1000\n",
            "count NIL: 127\n"
          ]
        }
      ]
    },
    {
      "cell_type": "code",
      "source": [
        "clone_ids = [f\"Clone{idx}.java\" for idx in range(1000)]"
      ],
      "metadata": {
        "id": "ktZI8nnTh97Z"
      },
      "execution_count": null,
      "outputs": []
    },
    {
      "cell_type": "code",
      "source": [
        "nil_predictions = [0]*1000\n",
        "for idx, clone_id  in enumerate(clone_ids):\n",
        "  if clone_id in nil_df[\"file_A\"].unique():\n",
        "    nil_predictions[idx] = 1"
      ],
      "metadata": {
        "id": "lBv5m9jRiKg3"
      },
      "execution_count": null,
      "outputs": []
    },
    {
      "cell_type": "code",
      "source": [
        "nil_df = pd.DataFrame(np.array([clone_ids, nil_predictions]).T, columns=[\"file\", \"prediction\"])"
      ],
      "metadata": {
        "id": "ISK-qYEkjght"
      },
      "execution_count": null,
      "outputs": []
    },
    {
      "cell_type": "code",
      "source": [
        "facer_df[\"file\"] = facer_df[\"file\"].map(lambda x: x.lower())\n",
        "nil_df[\"file\"] = nil_df[\"file\"].map(lambda x: x.lower())\n",
        "code_bert_df[\"file\"] = code_bert_df[\"file\"].map(lambda x: x.lower())"
      ],
      "metadata": {
        "colab": {
          "base_uri": "https://localhost:8080/"
        },
        "id": "S81ANBT7kauI",
        "outputId": "0ded05dd-aa94-4b7e-c816-d46e9d6a113b"
      },
      "execution_count": null,
      "outputs": [
        {
          "output_type": "stream",
          "name": "stderr",
          "text": [
            "/usr/local/lib/python3.7/dist-packages/ipykernel_launcher.py:1: SettingWithCopyWarning: \n",
            "A value is trying to be set on a copy of a slice from a DataFrame.\n",
            "Try using .loc[row_indexer,col_indexer] = value instead\n",
            "\n",
            "See the caveats in the documentation: https://pandas.pydata.org/pandas-docs/stable/user_guide/indexing.html#returning-a-view-versus-a-copy\n",
            "  \"\"\"Entry point for launching an IPython kernel.\n"
          ]
        }
      ]
    },
    {
      "cell_type": "code",
      "source": [
        "print(f\"count Code Bert: {len(code_bert_df)}\")\n",
        "print(f\"count FACER: {len(facer_df)}\")\n",
        "print(f\"count NIL: {len(nil_df)}\")"
      ],
      "metadata": {
        "colab": {
          "base_uri": "https://localhost:8080/"
        },
        "id": "BDX5fPBdmemX",
        "outputId": "49f7829a-c085-481a-8ec3-7bebba08abf5"
      },
      "execution_count": null,
      "outputs": [
        {
          "output_type": "stream",
          "name": "stdout",
          "text": [
            "count Code Bert: 1000\n",
            "count FACER: 1000\n",
            "count NIL: 1000\n"
          ]
        }
      ]
    },
    {
      "cell_type": "code",
      "source": [
        "nil_df.head()"
      ],
      "metadata": {
        "colab": {
          "base_uri": "https://localhost:8080/",
          "height": 206
        },
        "id": "anFfJ8BGkLxE",
        "outputId": "75cb2584-f2e5-4de4-859f-1ee49b5aa01c"
      },
      "execution_count": null,
      "outputs": [
        {
          "output_type": "execute_result",
          "data": {
            "text/plain": [
              "          file prediction\n",
              "0  clone0.java          0\n",
              "1  clone1.java          0\n",
              "2  clone2.java          0\n",
              "3  clone3.java          0\n",
              "4  clone4.java          1"
            ],
            "text/html": [
              "\n",
              "  <div id=\"df-d1e7fb8c-3f75-46f9-9194-fdd318044d50\">\n",
              "    <div class=\"colab-df-container\">\n",
              "      <div>\n",
              "<style scoped>\n",
              "    .dataframe tbody tr th:only-of-type {\n",
              "        vertical-align: middle;\n",
              "    }\n",
              "\n",
              "    .dataframe tbody tr th {\n",
              "        vertical-align: top;\n",
              "    }\n",
              "\n",
              "    .dataframe thead th {\n",
              "        text-align: right;\n",
              "    }\n",
              "</style>\n",
              "<table border=\"1\" class=\"dataframe\">\n",
              "  <thead>\n",
              "    <tr style=\"text-align: right;\">\n",
              "      <th></th>\n",
              "      <th>file</th>\n",
              "      <th>prediction</th>\n",
              "    </tr>\n",
              "  </thead>\n",
              "  <tbody>\n",
              "    <tr>\n",
              "      <th>0</th>\n",
              "      <td>clone0.java</td>\n",
              "      <td>0</td>\n",
              "    </tr>\n",
              "    <tr>\n",
              "      <th>1</th>\n",
              "      <td>clone1.java</td>\n",
              "      <td>0</td>\n",
              "    </tr>\n",
              "    <tr>\n",
              "      <th>2</th>\n",
              "      <td>clone2.java</td>\n",
              "      <td>0</td>\n",
              "    </tr>\n",
              "    <tr>\n",
              "      <th>3</th>\n",
              "      <td>clone3.java</td>\n",
              "      <td>0</td>\n",
              "    </tr>\n",
              "    <tr>\n",
              "      <th>4</th>\n",
              "      <td>clone4.java</td>\n",
              "      <td>1</td>\n",
              "    </tr>\n",
              "  </tbody>\n",
              "</table>\n",
              "</div>\n",
              "      <button class=\"colab-df-convert\" onclick=\"convertToInteractive('df-d1e7fb8c-3f75-46f9-9194-fdd318044d50')\"\n",
              "              title=\"Convert this dataframe to an interactive table.\"\n",
              "              style=\"display:none;\">\n",
              "        \n",
              "  <svg xmlns=\"http://www.w3.org/2000/svg\" height=\"24px\"viewBox=\"0 0 24 24\"\n",
              "       width=\"24px\">\n",
              "    <path d=\"M0 0h24v24H0V0z\" fill=\"none\"/>\n",
              "    <path d=\"M18.56 5.44l.94 2.06.94-2.06 2.06-.94-2.06-.94-.94-2.06-.94 2.06-2.06.94zm-11 1L8.5 8.5l.94-2.06 2.06-.94-2.06-.94L8.5 2.5l-.94 2.06-2.06.94zm10 10l.94 2.06.94-2.06 2.06-.94-2.06-.94-.94-2.06-.94 2.06-2.06.94z\"/><path d=\"M17.41 7.96l-1.37-1.37c-.4-.4-.92-.59-1.43-.59-.52 0-1.04.2-1.43.59L10.3 9.45l-7.72 7.72c-.78.78-.78 2.05 0 2.83L4 21.41c.39.39.9.59 1.41.59.51 0 1.02-.2 1.41-.59l7.78-7.78 2.81-2.81c.8-.78.8-2.07 0-2.86zM5.41 20L4 18.59l7.72-7.72 1.47 1.35L5.41 20z\"/>\n",
              "  </svg>\n",
              "      </button>\n",
              "      \n",
              "  <style>\n",
              "    .colab-df-container {\n",
              "      display:flex;\n",
              "      flex-wrap:wrap;\n",
              "      gap: 12px;\n",
              "    }\n",
              "\n",
              "    .colab-df-convert {\n",
              "      background-color: #E8F0FE;\n",
              "      border: none;\n",
              "      border-radius: 50%;\n",
              "      cursor: pointer;\n",
              "      display: none;\n",
              "      fill: #1967D2;\n",
              "      height: 32px;\n",
              "      padding: 0 0 0 0;\n",
              "      width: 32px;\n",
              "    }\n",
              "\n",
              "    .colab-df-convert:hover {\n",
              "      background-color: #E2EBFA;\n",
              "      box-shadow: 0px 1px 2px rgba(60, 64, 67, 0.3), 0px 1px 3px 1px rgba(60, 64, 67, 0.15);\n",
              "      fill: #174EA6;\n",
              "    }\n",
              "\n",
              "    [theme=dark] .colab-df-convert {\n",
              "      background-color: #3B4455;\n",
              "      fill: #D2E3FC;\n",
              "    }\n",
              "\n",
              "    [theme=dark] .colab-df-convert:hover {\n",
              "      background-color: #434B5C;\n",
              "      box-shadow: 0px 1px 3px 1px rgba(0, 0, 0, 0.15);\n",
              "      filter: drop-shadow(0px 1px 2px rgba(0, 0, 0, 0.3));\n",
              "      fill: #FFFFFF;\n",
              "    }\n",
              "  </style>\n",
              "\n",
              "      <script>\n",
              "        const buttonEl =\n",
              "          document.querySelector('#df-d1e7fb8c-3f75-46f9-9194-fdd318044d50 button.colab-df-convert');\n",
              "        buttonEl.style.display =\n",
              "          google.colab.kernel.accessAllowed ? 'block' : 'none';\n",
              "\n",
              "        async function convertToInteractive(key) {\n",
              "          const element = document.querySelector('#df-d1e7fb8c-3f75-46f9-9194-fdd318044d50');\n",
              "          const dataTable =\n",
              "            await google.colab.kernel.invokeFunction('convertToInteractive',\n",
              "                                                     [key], {});\n",
              "          if (!dataTable) return;\n",
              "\n",
              "          const docLinkHtml = 'Like what you see? Visit the ' +\n",
              "            '<a target=\"_blank\" href=https://colab.research.google.com/notebooks/data_table.ipynb>data table notebook</a>'\n",
              "            + ' to learn more about interactive tables.';\n",
              "          element.innerHTML = '';\n",
              "          dataTable['output_type'] = 'display_data';\n",
              "          await google.colab.output.renderOutput(dataTable, element);\n",
              "          const docLink = document.createElement('div');\n",
              "          docLink.innerHTML = docLinkHtml;\n",
              "          element.appendChild(docLink);\n",
              "        }\n",
              "      </script>\n",
              "    </div>\n",
              "  </div>\n",
              "  "
            ]
          },
          "metadata": {},
          "execution_count": 114
        }
      ]
    },
    {
      "cell_type": "code",
      "source": [
        "code_bert_df.head()"
      ],
      "metadata": {
        "colab": {
          "base_uri": "https://localhost:8080/",
          "height": 206
        },
        "id": "RGX7Ue3ld3Kt",
        "outputId": "09964cc7-bd59-42b1-ec25-8e683f6cfad5"
      },
      "execution_count": null,
      "outputs": [
        {
          "output_type": "execute_result",
          "data": {
            "text/plain": [
              "            file  prediction\n",
              "0  clone166.java           1\n",
              "1  clone610.java           1\n",
              "2  clone177.java           0\n",
              "3  clone817.java           1\n",
              "4  clone276.java           1"
            ],
            "text/html": [
              "\n",
              "  <div id=\"df-0b335fac-a024-46c4-9305-46799838b57f\">\n",
              "    <div class=\"colab-df-container\">\n",
              "      <div>\n",
              "<style scoped>\n",
              "    .dataframe tbody tr th:only-of-type {\n",
              "        vertical-align: middle;\n",
              "    }\n",
              "\n",
              "    .dataframe tbody tr th {\n",
              "        vertical-align: top;\n",
              "    }\n",
              "\n",
              "    .dataframe thead th {\n",
              "        text-align: right;\n",
              "    }\n",
              "</style>\n",
              "<table border=\"1\" class=\"dataframe\">\n",
              "  <thead>\n",
              "    <tr style=\"text-align: right;\">\n",
              "      <th></th>\n",
              "      <th>file</th>\n",
              "      <th>prediction</th>\n",
              "    </tr>\n",
              "  </thead>\n",
              "  <tbody>\n",
              "    <tr>\n",
              "      <th>0</th>\n",
              "      <td>clone166.java</td>\n",
              "      <td>1</td>\n",
              "    </tr>\n",
              "    <tr>\n",
              "      <th>1</th>\n",
              "      <td>clone610.java</td>\n",
              "      <td>1</td>\n",
              "    </tr>\n",
              "    <tr>\n",
              "      <th>2</th>\n",
              "      <td>clone177.java</td>\n",
              "      <td>0</td>\n",
              "    </tr>\n",
              "    <tr>\n",
              "      <th>3</th>\n",
              "      <td>clone817.java</td>\n",
              "      <td>1</td>\n",
              "    </tr>\n",
              "    <tr>\n",
              "      <th>4</th>\n",
              "      <td>clone276.java</td>\n",
              "      <td>1</td>\n",
              "    </tr>\n",
              "  </tbody>\n",
              "</table>\n",
              "</div>\n",
              "      <button class=\"colab-df-convert\" onclick=\"convertToInteractive('df-0b335fac-a024-46c4-9305-46799838b57f')\"\n",
              "              title=\"Convert this dataframe to an interactive table.\"\n",
              "              style=\"display:none;\">\n",
              "        \n",
              "  <svg xmlns=\"http://www.w3.org/2000/svg\" height=\"24px\"viewBox=\"0 0 24 24\"\n",
              "       width=\"24px\">\n",
              "    <path d=\"M0 0h24v24H0V0z\" fill=\"none\"/>\n",
              "    <path d=\"M18.56 5.44l.94 2.06.94-2.06 2.06-.94-2.06-.94-.94-2.06-.94 2.06-2.06.94zm-11 1L8.5 8.5l.94-2.06 2.06-.94-2.06-.94L8.5 2.5l-.94 2.06-2.06.94zm10 10l.94 2.06.94-2.06 2.06-.94-2.06-.94-.94-2.06-.94 2.06-2.06.94z\"/><path d=\"M17.41 7.96l-1.37-1.37c-.4-.4-.92-.59-1.43-.59-.52 0-1.04.2-1.43.59L10.3 9.45l-7.72 7.72c-.78.78-.78 2.05 0 2.83L4 21.41c.39.39.9.59 1.41.59.51 0 1.02-.2 1.41-.59l7.78-7.78 2.81-2.81c.8-.78.8-2.07 0-2.86zM5.41 20L4 18.59l7.72-7.72 1.47 1.35L5.41 20z\"/>\n",
              "  </svg>\n",
              "      </button>\n",
              "      \n",
              "  <style>\n",
              "    .colab-df-container {\n",
              "      display:flex;\n",
              "      flex-wrap:wrap;\n",
              "      gap: 12px;\n",
              "    }\n",
              "\n",
              "    .colab-df-convert {\n",
              "      background-color: #E8F0FE;\n",
              "      border: none;\n",
              "      border-radius: 50%;\n",
              "      cursor: pointer;\n",
              "      display: none;\n",
              "      fill: #1967D2;\n",
              "      height: 32px;\n",
              "      padding: 0 0 0 0;\n",
              "      width: 32px;\n",
              "    }\n",
              "\n",
              "    .colab-df-convert:hover {\n",
              "      background-color: #E2EBFA;\n",
              "      box-shadow: 0px 1px 2px rgba(60, 64, 67, 0.3), 0px 1px 3px 1px rgba(60, 64, 67, 0.15);\n",
              "      fill: #174EA6;\n",
              "    }\n",
              "\n",
              "    [theme=dark] .colab-df-convert {\n",
              "      background-color: #3B4455;\n",
              "      fill: #D2E3FC;\n",
              "    }\n",
              "\n",
              "    [theme=dark] .colab-df-convert:hover {\n",
              "      background-color: #434B5C;\n",
              "      box-shadow: 0px 1px 3px 1px rgba(0, 0, 0, 0.15);\n",
              "      filter: drop-shadow(0px 1px 2px rgba(0, 0, 0, 0.3));\n",
              "      fill: #FFFFFF;\n",
              "    }\n",
              "  </style>\n",
              "\n",
              "      <script>\n",
              "        const buttonEl =\n",
              "          document.querySelector('#df-0b335fac-a024-46c4-9305-46799838b57f button.colab-df-convert');\n",
              "        buttonEl.style.display =\n",
              "          google.colab.kernel.accessAllowed ? 'block' : 'none';\n",
              "\n",
              "        async function convertToInteractive(key) {\n",
              "          const element = document.querySelector('#df-0b335fac-a024-46c4-9305-46799838b57f');\n",
              "          const dataTable =\n",
              "            await google.colab.kernel.invokeFunction('convertToInteractive',\n",
              "                                                     [key], {});\n",
              "          if (!dataTable) return;\n",
              "\n",
              "          const docLinkHtml = 'Like what you see? Visit the ' +\n",
              "            '<a target=\"_blank\" href=https://colab.research.google.com/notebooks/data_table.ipynb>data table notebook</a>'\n",
              "            + ' to learn more about interactive tables.';\n",
              "          element.innerHTML = '';\n",
              "          dataTable['output_type'] = 'display_data';\n",
              "          await google.colab.output.renderOutput(dataTable, element);\n",
              "          const docLink = document.createElement('div');\n",
              "          docLink.innerHTML = docLinkHtml;\n",
              "          element.appendChild(docLink);\n",
              "        }\n",
              "      </script>\n",
              "    </div>\n",
              "  </div>\n",
              "  "
            ]
          },
          "metadata": {},
          "execution_count": 115
        }
      ]
    },
    {
      "cell_type": "code",
      "source": [
        "facer_df.head()"
      ],
      "metadata": {
        "colab": {
          "base_uri": "https://localhost:8080/",
          "height": 206
        },
        "id": "k5X8TDZGd46d",
        "outputId": "d817a273-0765-454d-cf49-cfb7225fcff7"
      },
      "execution_count": null,
      "outputs": [
        {
          "output_type": "execute_result",
          "data": {
            "text/plain": [
              "          file  is_clone\n",
              "0  clone0.java         1\n",
              "1  clone1.java         0\n",
              "2  clone2.java         1\n",
              "3  clone3.java         1\n",
              "4  clone4.java         1"
            ],
            "text/html": [
              "\n",
              "  <div id=\"df-2dbea514-e49c-411c-9cd5-f47357113950\">\n",
              "    <div class=\"colab-df-container\">\n",
              "      <div>\n",
              "<style scoped>\n",
              "    .dataframe tbody tr th:only-of-type {\n",
              "        vertical-align: middle;\n",
              "    }\n",
              "\n",
              "    .dataframe tbody tr th {\n",
              "        vertical-align: top;\n",
              "    }\n",
              "\n",
              "    .dataframe thead th {\n",
              "        text-align: right;\n",
              "    }\n",
              "</style>\n",
              "<table border=\"1\" class=\"dataframe\">\n",
              "  <thead>\n",
              "    <tr style=\"text-align: right;\">\n",
              "      <th></th>\n",
              "      <th>file</th>\n",
              "      <th>is_clone</th>\n",
              "    </tr>\n",
              "  </thead>\n",
              "  <tbody>\n",
              "    <tr>\n",
              "      <th>0</th>\n",
              "      <td>clone0.java</td>\n",
              "      <td>1</td>\n",
              "    </tr>\n",
              "    <tr>\n",
              "      <th>1</th>\n",
              "      <td>clone1.java</td>\n",
              "      <td>0</td>\n",
              "    </tr>\n",
              "    <tr>\n",
              "      <th>2</th>\n",
              "      <td>clone2.java</td>\n",
              "      <td>1</td>\n",
              "    </tr>\n",
              "    <tr>\n",
              "      <th>3</th>\n",
              "      <td>clone3.java</td>\n",
              "      <td>1</td>\n",
              "    </tr>\n",
              "    <tr>\n",
              "      <th>4</th>\n",
              "      <td>clone4.java</td>\n",
              "      <td>1</td>\n",
              "    </tr>\n",
              "  </tbody>\n",
              "</table>\n",
              "</div>\n",
              "      <button class=\"colab-df-convert\" onclick=\"convertToInteractive('df-2dbea514-e49c-411c-9cd5-f47357113950')\"\n",
              "              title=\"Convert this dataframe to an interactive table.\"\n",
              "              style=\"display:none;\">\n",
              "        \n",
              "  <svg xmlns=\"http://www.w3.org/2000/svg\" height=\"24px\"viewBox=\"0 0 24 24\"\n",
              "       width=\"24px\">\n",
              "    <path d=\"M0 0h24v24H0V0z\" fill=\"none\"/>\n",
              "    <path d=\"M18.56 5.44l.94 2.06.94-2.06 2.06-.94-2.06-.94-.94-2.06-.94 2.06-2.06.94zm-11 1L8.5 8.5l.94-2.06 2.06-.94-2.06-.94L8.5 2.5l-.94 2.06-2.06.94zm10 10l.94 2.06.94-2.06 2.06-.94-2.06-.94-.94-2.06-.94 2.06-2.06.94z\"/><path d=\"M17.41 7.96l-1.37-1.37c-.4-.4-.92-.59-1.43-.59-.52 0-1.04.2-1.43.59L10.3 9.45l-7.72 7.72c-.78.78-.78 2.05 0 2.83L4 21.41c.39.39.9.59 1.41.59.51 0 1.02-.2 1.41-.59l7.78-7.78 2.81-2.81c.8-.78.8-2.07 0-2.86zM5.41 20L4 18.59l7.72-7.72 1.47 1.35L5.41 20z\"/>\n",
              "  </svg>\n",
              "      </button>\n",
              "      \n",
              "  <style>\n",
              "    .colab-df-container {\n",
              "      display:flex;\n",
              "      flex-wrap:wrap;\n",
              "      gap: 12px;\n",
              "    }\n",
              "\n",
              "    .colab-df-convert {\n",
              "      background-color: #E8F0FE;\n",
              "      border: none;\n",
              "      border-radius: 50%;\n",
              "      cursor: pointer;\n",
              "      display: none;\n",
              "      fill: #1967D2;\n",
              "      height: 32px;\n",
              "      padding: 0 0 0 0;\n",
              "      width: 32px;\n",
              "    }\n",
              "\n",
              "    .colab-df-convert:hover {\n",
              "      background-color: #E2EBFA;\n",
              "      box-shadow: 0px 1px 2px rgba(60, 64, 67, 0.3), 0px 1px 3px 1px rgba(60, 64, 67, 0.15);\n",
              "      fill: #174EA6;\n",
              "    }\n",
              "\n",
              "    [theme=dark] .colab-df-convert {\n",
              "      background-color: #3B4455;\n",
              "      fill: #D2E3FC;\n",
              "    }\n",
              "\n",
              "    [theme=dark] .colab-df-convert:hover {\n",
              "      background-color: #434B5C;\n",
              "      box-shadow: 0px 1px 3px 1px rgba(0, 0, 0, 0.15);\n",
              "      filter: drop-shadow(0px 1px 2px rgba(0, 0, 0, 0.3));\n",
              "      fill: #FFFFFF;\n",
              "    }\n",
              "  </style>\n",
              "\n",
              "      <script>\n",
              "        const buttonEl =\n",
              "          document.querySelector('#df-2dbea514-e49c-411c-9cd5-f47357113950 button.colab-df-convert');\n",
              "        buttonEl.style.display =\n",
              "          google.colab.kernel.accessAllowed ? 'block' : 'none';\n",
              "\n",
              "        async function convertToInteractive(key) {\n",
              "          const element = document.querySelector('#df-2dbea514-e49c-411c-9cd5-f47357113950');\n",
              "          const dataTable =\n",
              "            await google.colab.kernel.invokeFunction('convertToInteractive',\n",
              "                                                     [key], {});\n",
              "          if (!dataTable) return;\n",
              "\n",
              "          const docLinkHtml = 'Like what you see? Visit the ' +\n",
              "            '<a target=\"_blank\" href=https://colab.research.google.com/notebooks/data_table.ipynb>data table notebook</a>'\n",
              "            + ' to learn more about interactive tables.';\n",
              "          element.innerHTML = '';\n",
              "          dataTable['output_type'] = 'display_data';\n",
              "          await google.colab.output.renderOutput(dataTable, element);\n",
              "          const docLink = document.createElement('div');\n",
              "          docLink.innerHTML = docLinkHtml;\n",
              "          element.appendChild(docLink);\n",
              "        }\n",
              "      </script>\n",
              "    </div>\n",
              "  </div>\n",
              "  "
            ]
          },
          "metadata": {},
          "execution_count": 116
        }
      ]
    },
    {
      "cell_type": "code",
      "source": [
        "def sorter(key):\n",
        "  k = key.replace(\"clone\", \"\")\n",
        "  k = k.replace(\".java\", \"\")\n",
        "  return int(k)"
      ],
      "metadata": {
        "id": "VIt0ktMKldQY"
      },
      "execution_count": null,
      "outputs": []
    },
    {
      "cell_type": "code",
      "source": [
        "facer_df[\"class_idx\"] = facer_df[\"file\"].map(sorter)\n",
        "nil_df[\"class_idx\"] = nil_df[\"file\"].map(sorter)\n",
        "code_bert_df[\"class_idx\"] = code_bert_df[\"file\"].map(sorter)"
      ],
      "metadata": {
        "colab": {
          "base_uri": "https://localhost:8080/"
        },
        "id": "WHbrXH20lAMV",
        "outputId": "11d46016-8e34-4157-b6d3-6b2297a1eb69"
      },
      "execution_count": null,
      "outputs": [
        {
          "output_type": "stream",
          "name": "stderr",
          "text": [
            "/usr/local/lib/python3.7/dist-packages/ipykernel_launcher.py:1: SettingWithCopyWarning: \n",
            "A value is trying to be set on a copy of a slice from a DataFrame.\n",
            "Try using .loc[row_indexer,col_indexer] = value instead\n",
            "\n",
            "See the caveats in the documentation: https://pandas.pydata.org/pandas-docs/stable/user_guide/indexing.html#returning-a-view-versus-a-copy\n",
            "  \"\"\"Entry point for launching an IPython kernel.\n"
          ]
        }
      ]
    },
    {
      "cell_type": "code",
      "source": [
        "facer_df.sort_values(\"class_idx\")\n",
        "nil_df.sort_values(\"class_idx\")\n",
        "code_bert_df.sort_values(\"class_idx\")"
      ],
      "metadata": {
        "colab": {
          "base_uri": "https://localhost:8080/",
          "height": 424
        },
        "id": "vM6wIAP7mwef",
        "outputId": "87f5c149-9e60-4340-8074-829ecd86bab7"
      },
      "execution_count": null,
      "outputs": [
        {
          "output_type": "execute_result",
          "data": {
            "text/plain": [
              "              file  prediction  class_idx\n",
              "80     clone0.java           0          0\n",
              "143    clone1.java           1          1\n",
              "874    clone2.java           1          2\n",
              "296    clone3.java           1          3\n",
              "148    clone4.java           1          4\n",
              "..             ...         ...        ...\n",
              "945  clone995.java           1        995\n",
              "785  clone996.java           1        996\n",
              "376  clone997.java           1        997\n",
              "408  clone998.java           1        998\n",
              "31   clone999.java           1        999\n",
              "\n",
              "[1000 rows x 3 columns]"
            ],
            "text/html": [
              "\n",
              "  <div id=\"df-83040023-6a27-4773-aa53-52c8a7e89ce8\">\n",
              "    <div class=\"colab-df-container\">\n",
              "      <div>\n",
              "<style scoped>\n",
              "    .dataframe tbody tr th:only-of-type {\n",
              "        vertical-align: middle;\n",
              "    }\n",
              "\n",
              "    .dataframe tbody tr th {\n",
              "        vertical-align: top;\n",
              "    }\n",
              "\n",
              "    .dataframe thead th {\n",
              "        text-align: right;\n",
              "    }\n",
              "</style>\n",
              "<table border=\"1\" class=\"dataframe\">\n",
              "  <thead>\n",
              "    <tr style=\"text-align: right;\">\n",
              "      <th></th>\n",
              "      <th>file</th>\n",
              "      <th>prediction</th>\n",
              "      <th>class_idx</th>\n",
              "    </tr>\n",
              "  </thead>\n",
              "  <tbody>\n",
              "    <tr>\n",
              "      <th>80</th>\n",
              "      <td>clone0.java</td>\n",
              "      <td>0</td>\n",
              "      <td>0</td>\n",
              "    </tr>\n",
              "    <tr>\n",
              "      <th>143</th>\n",
              "      <td>clone1.java</td>\n",
              "      <td>1</td>\n",
              "      <td>1</td>\n",
              "    </tr>\n",
              "    <tr>\n",
              "      <th>874</th>\n",
              "      <td>clone2.java</td>\n",
              "      <td>1</td>\n",
              "      <td>2</td>\n",
              "    </tr>\n",
              "    <tr>\n",
              "      <th>296</th>\n",
              "      <td>clone3.java</td>\n",
              "      <td>1</td>\n",
              "      <td>3</td>\n",
              "    </tr>\n",
              "    <tr>\n",
              "      <th>148</th>\n",
              "      <td>clone4.java</td>\n",
              "      <td>1</td>\n",
              "      <td>4</td>\n",
              "    </tr>\n",
              "    <tr>\n",
              "      <th>...</th>\n",
              "      <td>...</td>\n",
              "      <td>...</td>\n",
              "      <td>...</td>\n",
              "    </tr>\n",
              "    <tr>\n",
              "      <th>945</th>\n",
              "      <td>clone995.java</td>\n",
              "      <td>1</td>\n",
              "      <td>995</td>\n",
              "    </tr>\n",
              "    <tr>\n",
              "      <th>785</th>\n",
              "      <td>clone996.java</td>\n",
              "      <td>1</td>\n",
              "      <td>996</td>\n",
              "    </tr>\n",
              "    <tr>\n",
              "      <th>376</th>\n",
              "      <td>clone997.java</td>\n",
              "      <td>1</td>\n",
              "      <td>997</td>\n",
              "    </tr>\n",
              "    <tr>\n",
              "      <th>408</th>\n",
              "      <td>clone998.java</td>\n",
              "      <td>1</td>\n",
              "      <td>998</td>\n",
              "    </tr>\n",
              "    <tr>\n",
              "      <th>31</th>\n",
              "      <td>clone999.java</td>\n",
              "      <td>1</td>\n",
              "      <td>999</td>\n",
              "    </tr>\n",
              "  </tbody>\n",
              "</table>\n",
              "<p>1000 rows × 3 columns</p>\n",
              "</div>\n",
              "      <button class=\"colab-df-convert\" onclick=\"convertToInteractive('df-83040023-6a27-4773-aa53-52c8a7e89ce8')\"\n",
              "              title=\"Convert this dataframe to an interactive table.\"\n",
              "              style=\"display:none;\">\n",
              "        \n",
              "  <svg xmlns=\"http://www.w3.org/2000/svg\" height=\"24px\"viewBox=\"0 0 24 24\"\n",
              "       width=\"24px\">\n",
              "    <path d=\"M0 0h24v24H0V0z\" fill=\"none\"/>\n",
              "    <path d=\"M18.56 5.44l.94 2.06.94-2.06 2.06-.94-2.06-.94-.94-2.06-.94 2.06-2.06.94zm-11 1L8.5 8.5l.94-2.06 2.06-.94-2.06-.94L8.5 2.5l-.94 2.06-2.06.94zm10 10l.94 2.06.94-2.06 2.06-.94-2.06-.94-.94-2.06-.94 2.06-2.06.94z\"/><path d=\"M17.41 7.96l-1.37-1.37c-.4-.4-.92-.59-1.43-.59-.52 0-1.04.2-1.43.59L10.3 9.45l-7.72 7.72c-.78.78-.78 2.05 0 2.83L4 21.41c.39.39.9.59 1.41.59.51 0 1.02-.2 1.41-.59l7.78-7.78 2.81-2.81c.8-.78.8-2.07 0-2.86zM5.41 20L4 18.59l7.72-7.72 1.47 1.35L5.41 20z\"/>\n",
              "  </svg>\n",
              "      </button>\n",
              "      \n",
              "  <style>\n",
              "    .colab-df-container {\n",
              "      display:flex;\n",
              "      flex-wrap:wrap;\n",
              "      gap: 12px;\n",
              "    }\n",
              "\n",
              "    .colab-df-convert {\n",
              "      background-color: #E8F0FE;\n",
              "      border: none;\n",
              "      border-radius: 50%;\n",
              "      cursor: pointer;\n",
              "      display: none;\n",
              "      fill: #1967D2;\n",
              "      height: 32px;\n",
              "      padding: 0 0 0 0;\n",
              "      width: 32px;\n",
              "    }\n",
              "\n",
              "    .colab-df-convert:hover {\n",
              "      background-color: #E2EBFA;\n",
              "      box-shadow: 0px 1px 2px rgba(60, 64, 67, 0.3), 0px 1px 3px 1px rgba(60, 64, 67, 0.15);\n",
              "      fill: #174EA6;\n",
              "    }\n",
              "\n",
              "    [theme=dark] .colab-df-convert {\n",
              "      background-color: #3B4455;\n",
              "      fill: #D2E3FC;\n",
              "    }\n",
              "\n",
              "    [theme=dark] .colab-df-convert:hover {\n",
              "      background-color: #434B5C;\n",
              "      box-shadow: 0px 1px 3px 1px rgba(0, 0, 0, 0.15);\n",
              "      filter: drop-shadow(0px 1px 2px rgba(0, 0, 0, 0.3));\n",
              "      fill: #FFFFFF;\n",
              "    }\n",
              "  </style>\n",
              "\n",
              "      <script>\n",
              "        const buttonEl =\n",
              "          document.querySelector('#df-83040023-6a27-4773-aa53-52c8a7e89ce8 button.colab-df-convert');\n",
              "        buttonEl.style.display =\n",
              "          google.colab.kernel.accessAllowed ? 'block' : 'none';\n",
              "\n",
              "        async function convertToInteractive(key) {\n",
              "          const element = document.querySelector('#df-83040023-6a27-4773-aa53-52c8a7e89ce8');\n",
              "          const dataTable =\n",
              "            await google.colab.kernel.invokeFunction('convertToInteractive',\n",
              "                                                     [key], {});\n",
              "          if (!dataTable) return;\n",
              "\n",
              "          const docLinkHtml = 'Like what you see? Visit the ' +\n",
              "            '<a target=\"_blank\" href=https://colab.research.google.com/notebooks/data_table.ipynb>data table notebook</a>'\n",
              "            + ' to learn more about interactive tables.';\n",
              "          element.innerHTML = '';\n",
              "          dataTable['output_type'] = 'display_data';\n",
              "          await google.colab.output.renderOutput(dataTable, element);\n",
              "          const docLink = document.createElement('div');\n",
              "          docLink.innerHTML = docLinkHtml;\n",
              "          element.appendChild(docLink);\n",
              "        }\n",
              "      </script>\n",
              "    </div>\n",
              "  </div>\n",
              "  "
            ]
          },
          "metadata": {},
          "execution_count": 119
        }
      ]
    },
    {
      "cell_type": "code",
      "source": [
        "combined_results = pd.DataFrame(data=np.zeros((1000, 4)), columns=[\"clone_pair_id\", \"facer_prediction\", \"code_bert_prediction\", \"nil_prediction\"])"
      ],
      "metadata": {
        "id": "ohcOPrB_m_Or"
      },
      "execution_count": null,
      "outputs": []
    },
    {
      "cell_type": "code",
      "source": [
        "combined_results[\"clone_pair_id\"] = facer_df[\"file\"]\n",
        "combined_results[\"facer_prediction\"] = facer_df[\"is_clone\"]\n",
        "combined_results[\"nil_prediction\"] = nil_df[\"prediction\"]\n",
        "combined_results[\"code_bert_prediction\"] = code_bert_df[\"prediction\"]"
      ],
      "metadata": {
        "id": "U7Y_7VimnsmE"
      },
      "execution_count": null,
      "outputs": []
    },
    {
      "cell_type": "code",
      "source": [
        "combined_results.to_csv(\"scb_processed_results.csv\")"
      ],
      "metadata": {
        "id": "va26UnC5m1_m"
      },
      "execution_count": null,
      "outputs": []
    },
    {
      "cell_type": "code",
      "source": [
        "combined_results"
      ],
      "metadata": {
        "colab": {
          "base_uri": "https://localhost:8080/",
          "height": 424
        },
        "id": "6yBoiq-ptUlw",
        "outputId": "60543cc2-1dc4-4675-b80e-c57700b1526f"
      },
      "execution_count": null,
      "outputs": [
        {
          "output_type": "execute_result",
          "data": {
            "text/plain": [
              "     clone_pair_id  facer_prediction  code_bert_prediction nil_prediction\n",
              "0      clone0.java                 1                     1              0\n",
              "1      clone1.java                 0                     1              0\n",
              "2      clone2.java                 1                     0              0\n",
              "3      clone3.java                 1                     1              0\n",
              "4      clone4.java                 1                     1              1\n",
              "..             ...               ...                   ...            ...\n",
              "995  clone995.java                 1                     1              0\n",
              "996  clone996.java                 1                     1              0\n",
              "997  clone997.java                 1                     1              0\n",
              "998  clone998.java                 1                     1              0\n",
              "999  clone999.java                 1                     0              0\n",
              "\n",
              "[1000 rows x 4 columns]"
            ],
            "text/html": [
              "\n",
              "  <div id=\"df-9d26fc07-8986-484c-8593-e94ed5017f8d\">\n",
              "    <div class=\"colab-df-container\">\n",
              "      <div>\n",
              "<style scoped>\n",
              "    .dataframe tbody tr th:only-of-type {\n",
              "        vertical-align: middle;\n",
              "    }\n",
              "\n",
              "    .dataframe tbody tr th {\n",
              "        vertical-align: top;\n",
              "    }\n",
              "\n",
              "    .dataframe thead th {\n",
              "        text-align: right;\n",
              "    }\n",
              "</style>\n",
              "<table border=\"1\" class=\"dataframe\">\n",
              "  <thead>\n",
              "    <tr style=\"text-align: right;\">\n",
              "      <th></th>\n",
              "      <th>clone_pair_id</th>\n",
              "      <th>facer_prediction</th>\n",
              "      <th>code_bert_prediction</th>\n",
              "      <th>nil_prediction</th>\n",
              "    </tr>\n",
              "  </thead>\n",
              "  <tbody>\n",
              "    <tr>\n",
              "      <th>0</th>\n",
              "      <td>clone0.java</td>\n",
              "      <td>1</td>\n",
              "      <td>1</td>\n",
              "      <td>0</td>\n",
              "    </tr>\n",
              "    <tr>\n",
              "      <th>1</th>\n",
              "      <td>clone1.java</td>\n",
              "      <td>0</td>\n",
              "      <td>1</td>\n",
              "      <td>0</td>\n",
              "    </tr>\n",
              "    <tr>\n",
              "      <th>2</th>\n",
              "      <td>clone2.java</td>\n",
              "      <td>1</td>\n",
              "      <td>0</td>\n",
              "      <td>0</td>\n",
              "    </tr>\n",
              "    <tr>\n",
              "      <th>3</th>\n",
              "      <td>clone3.java</td>\n",
              "      <td>1</td>\n",
              "      <td>1</td>\n",
              "      <td>0</td>\n",
              "    </tr>\n",
              "    <tr>\n",
              "      <th>4</th>\n",
              "      <td>clone4.java</td>\n",
              "      <td>1</td>\n",
              "      <td>1</td>\n",
              "      <td>1</td>\n",
              "    </tr>\n",
              "    <tr>\n",
              "      <th>...</th>\n",
              "      <td>...</td>\n",
              "      <td>...</td>\n",
              "      <td>...</td>\n",
              "      <td>...</td>\n",
              "    </tr>\n",
              "    <tr>\n",
              "      <th>995</th>\n",
              "      <td>clone995.java</td>\n",
              "      <td>1</td>\n",
              "      <td>1</td>\n",
              "      <td>0</td>\n",
              "    </tr>\n",
              "    <tr>\n",
              "      <th>996</th>\n",
              "      <td>clone996.java</td>\n",
              "      <td>1</td>\n",
              "      <td>1</td>\n",
              "      <td>0</td>\n",
              "    </tr>\n",
              "    <tr>\n",
              "      <th>997</th>\n",
              "      <td>clone997.java</td>\n",
              "      <td>1</td>\n",
              "      <td>1</td>\n",
              "      <td>0</td>\n",
              "    </tr>\n",
              "    <tr>\n",
              "      <th>998</th>\n",
              "      <td>clone998.java</td>\n",
              "      <td>1</td>\n",
              "      <td>1</td>\n",
              "      <td>0</td>\n",
              "    </tr>\n",
              "    <tr>\n",
              "      <th>999</th>\n",
              "      <td>clone999.java</td>\n",
              "      <td>1</td>\n",
              "      <td>0</td>\n",
              "      <td>0</td>\n",
              "    </tr>\n",
              "  </tbody>\n",
              "</table>\n",
              "<p>1000 rows × 4 columns</p>\n",
              "</div>\n",
              "      <button class=\"colab-df-convert\" onclick=\"convertToInteractive('df-9d26fc07-8986-484c-8593-e94ed5017f8d')\"\n",
              "              title=\"Convert this dataframe to an interactive table.\"\n",
              "              style=\"display:none;\">\n",
              "        \n",
              "  <svg xmlns=\"http://www.w3.org/2000/svg\" height=\"24px\"viewBox=\"0 0 24 24\"\n",
              "       width=\"24px\">\n",
              "    <path d=\"M0 0h24v24H0V0z\" fill=\"none\"/>\n",
              "    <path d=\"M18.56 5.44l.94 2.06.94-2.06 2.06-.94-2.06-.94-.94-2.06-.94 2.06-2.06.94zm-11 1L8.5 8.5l.94-2.06 2.06-.94-2.06-.94L8.5 2.5l-.94 2.06-2.06.94zm10 10l.94 2.06.94-2.06 2.06-.94-2.06-.94-.94-2.06-.94 2.06-2.06.94z\"/><path d=\"M17.41 7.96l-1.37-1.37c-.4-.4-.92-.59-1.43-.59-.52 0-1.04.2-1.43.59L10.3 9.45l-7.72 7.72c-.78.78-.78 2.05 0 2.83L4 21.41c.39.39.9.59 1.41.59.51 0 1.02-.2 1.41-.59l7.78-7.78 2.81-2.81c.8-.78.8-2.07 0-2.86zM5.41 20L4 18.59l7.72-7.72 1.47 1.35L5.41 20z\"/>\n",
              "  </svg>\n",
              "      </button>\n",
              "      \n",
              "  <style>\n",
              "    .colab-df-container {\n",
              "      display:flex;\n",
              "      flex-wrap:wrap;\n",
              "      gap: 12px;\n",
              "    }\n",
              "\n",
              "    .colab-df-convert {\n",
              "      background-color: #E8F0FE;\n",
              "      border: none;\n",
              "      border-radius: 50%;\n",
              "      cursor: pointer;\n",
              "      display: none;\n",
              "      fill: #1967D2;\n",
              "      height: 32px;\n",
              "      padding: 0 0 0 0;\n",
              "      width: 32px;\n",
              "    }\n",
              "\n",
              "    .colab-df-convert:hover {\n",
              "      background-color: #E2EBFA;\n",
              "      box-shadow: 0px 1px 2px rgba(60, 64, 67, 0.3), 0px 1px 3px 1px rgba(60, 64, 67, 0.15);\n",
              "      fill: #174EA6;\n",
              "    }\n",
              "\n",
              "    [theme=dark] .colab-df-convert {\n",
              "      background-color: #3B4455;\n",
              "      fill: #D2E3FC;\n",
              "    }\n",
              "\n",
              "    [theme=dark] .colab-df-convert:hover {\n",
              "      background-color: #434B5C;\n",
              "      box-shadow: 0px 1px 3px 1px rgba(0, 0, 0, 0.15);\n",
              "      filter: drop-shadow(0px 1px 2px rgba(0, 0, 0, 0.3));\n",
              "      fill: #FFFFFF;\n",
              "    }\n",
              "  </style>\n",
              "\n",
              "      <script>\n",
              "        const buttonEl =\n",
              "          document.querySelector('#df-9d26fc07-8986-484c-8593-e94ed5017f8d button.colab-df-convert');\n",
              "        buttonEl.style.display =\n",
              "          google.colab.kernel.accessAllowed ? 'block' : 'none';\n",
              "\n",
              "        async function convertToInteractive(key) {\n",
              "          const element = document.querySelector('#df-9d26fc07-8986-484c-8593-e94ed5017f8d');\n",
              "          const dataTable =\n",
              "            await google.colab.kernel.invokeFunction('convertToInteractive',\n",
              "                                                     [key], {});\n",
              "          if (!dataTable) return;\n",
              "\n",
              "          const docLinkHtml = 'Like what you see? Visit the ' +\n",
              "            '<a target=\"_blank\" href=https://colab.research.google.com/notebooks/data_table.ipynb>data table notebook</a>'\n",
              "            + ' to learn more about interactive tables.';\n",
              "          element.innerHTML = '';\n",
              "          dataTable['output_type'] = 'display_data';\n",
              "          await google.colab.output.renderOutput(dataTable, element);\n",
              "          const docLink = document.createElement('div');\n",
              "          docLink.innerHTML = docLinkHtml;\n",
              "          element.appendChild(docLink);\n",
              "        }\n",
              "      </script>\n",
              "    </div>\n",
              "  </div>\n",
              "  "
            ]
          },
          "metadata": {},
          "execution_count": 140
        }
      ]
    },
    {
      "cell_type": "code",
      "source": [
        "y_facer = set(combined_results.loc[combined_results[\"facer_prediction\"] == 1, \"clone_pair_id\"].unique())\n",
        "n_facer = set(combined_results.loc[combined_results[\"facer_prediction\"] == 0, \"clone_pair_id\"].unique())"
      ],
      "metadata": {
        "id": "PVDS09nRoejy"
      },
      "execution_count": null,
      "outputs": []
    },
    {
      "cell_type": "code",
      "source": [
        "y_nil = set(combined_results.loc[combined_results[\"nil_prediction\"] == '1', \"clone_pair_id\"].unique())\n",
        "n_nil = set(combined_results.loc[combined_results[\"nil_prediction\"] == '0', \"clone_pair_id\"].unique())"
      ],
      "metadata": {
        "id": "VhfHZYwgqro9"
      },
      "execution_count": null,
      "outputs": []
    },
    {
      "cell_type": "code",
      "source": [
        "y_code_bert = set(combined_results.loc[combined_results[\"code_bert_prediction\"] == 1, \"clone_pair_id\"].unique())\n",
        "n_code_bert = set(combined_results.loc[combined_results[\"code_bert_prediction\"] == 0, \"clone_pair_id\"].unique())"
      ],
      "metadata": {
        "id": "MulRTqErq1m1"
      },
      "execution_count": null,
      "outputs": []
    },
    {
      "cell_type": "code",
      "source": [
        "total_coverage = set.union(set.union(y_nil, y_facer), y_code_bert)"
      ],
      "metadata": {
        "id": "pOR50WH0r23W"
      },
      "execution_count": null,
      "outputs": []
    },
    {
      "cell_type": "code",
      "source": [
        "print(f\"Total Coverage using all the tools: {len(total_coverage)}\")"
      ],
      "metadata": {
        "colab": {
          "base_uri": "https://localhost:8080/"
        },
        "id": "1xHiDP3tuNFy",
        "outputId": "57110c69-8813-408d-90ef-05a1397a207d"
      },
      "execution_count": null,
      "outputs": [
        {
          "output_type": "stream",
          "name": "stdout",
          "text": [
            "Total Coverage using all the tools: 955\n"
          ]
        }
      ]
    },
    {
      "cell_type": "code",
      "source": [
        "facer_only = y_facer.difference(set.union(y_code_bert, y_nil))\n",
        "print(f\"Only detected by FACER: {len(facer_only)}\")"
      ],
      "metadata": {
        "colab": {
          "base_uri": "https://localhost:8080/"
        },
        "id": "vSNCiB9KuZjC",
        "outputId": "aade14d5-890d-468c-d3d0-95f9413e07df"
      },
      "execution_count": null,
      "outputs": [
        {
          "output_type": "stream",
          "name": "stdout",
          "text": [
            "Only detected by FACER: 104\n"
          ]
        }
      ]
    },
    {
      "cell_type": "code",
      "source": [
        "nil_only = y_nil.difference(set.union(y_code_bert, y_facer))\n",
        "print(f\"Only detected by NIL: {len(nil_only)}\")"
      ],
      "metadata": {
        "colab": {
          "base_uri": "https://localhost:8080/"
        },
        "id": "lulJ2S5cup11",
        "outputId": "80800920-17f2-4ada-e41f-a9601887adc1"
      },
      "execution_count": null,
      "outputs": [
        {
          "output_type": "stream",
          "name": "stdout",
          "text": [
            "Only detected by NIL: 6\n"
          ]
        }
      ]
    },
    {
      "cell_type": "code",
      "source": [
        "code_bert_only = y_code_bert.difference(set.union(y_nil, y_facer))\n",
        "print(f\"Only detected by CodeBERT: {len(code_bert_only)}\")"
      ],
      "metadata": {
        "colab": {
          "base_uri": "https://localhost:8080/"
        },
        "id": "Vh3kViM9uveW",
        "outputId": "784ab85c-4514-473c-b734-d52bf5e05cee"
      },
      "execution_count": null,
      "outputs": [
        {
          "output_type": "stream",
          "name": "stdout",
          "text": [
            "Only detected by CodeBERT: 255\n"
          ]
        }
      ]
    },
    {
      "cell_type": "code",
      "source": [
        "deteced_by_all = set.intersection(set.intersection(y_facer, y_nil), y_code_bert)\n",
        "print(f\"Detected by All: {len(deteced_by_all)}\")"
      ],
      "metadata": {
        "colab": {
          "base_uri": "https://localhost:8080/"
        },
        "id": "3REXzr5bu4X6",
        "outputId": "f55cc2c8-35ae-4485-e6b7-049abb1082ca"
      },
      "execution_count": null,
      "outputs": [
        {
          "output_type": "stream",
          "name": "stdout",
          "text": [
            "Detected by All: 57\n"
          ]
        }
      ]
    },
    {
      "cell_type": "code",
      "source": [
        "nil_facer = set.union(y_nil, y_facer)\n",
        "print(f\"NIL with FACER: {len(nil_facer)}\")"
      ],
      "metadata": {
        "colab": {
          "base_uri": "https://localhost:8080/"
        },
        "id": "Kd5NF05BvpZs",
        "outputId": "563770d9-8a93-43e8-c135-6d0e8184201b"
      },
      "execution_count": null,
      "outputs": [
        {
          "output_type": "stream",
          "name": "stdout",
          "text": [
            "NIL with FACER: 700\n"
          ]
        }
      ]
    },
    {
      "cell_type": "code",
      "source": [
        "facer_codebert = set.union(y_code_bert, y_facer)\n",
        "print(f\"CodeBERT with FACER: {len(facer_codebert)}\")"
      ],
      "metadata": {
        "colab": {
          "base_uri": "https://localhost:8080/"
        },
        "id": "wjRrKgw4vywt",
        "outputId": "ed83fd80-6442-4d43-c589-4189eebdf8dd"
      },
      "execution_count": null,
      "outputs": [
        {
          "output_type": "stream",
          "name": "stdout",
          "text": [
            "CodeBERT with FACER: 949\n"
          ]
        }
      ]
    },
    {
      "cell_type": "code",
      "source": [
        "nil_codebert = set.union(y_code_bert, y_nil)\n",
        "print(f\"CodeBERT with NIL: {len(nil_codebert)}\")"
      ],
      "metadata": {
        "colab": {
          "base_uri": "https://localhost:8080/"
        },
        "id": "UWchSeCDv9J_",
        "outputId": "5456deca-e540-4367-d7ab-ff1b5b8545c4"
      },
      "execution_count": null,
      "outputs": [
        {
          "output_type": "stream",
          "name": "stdout",
          "text": [
            "CodeBERT with NIL: 851\n"
          ]
        }
      ]
    },
    {
      "cell_type": "code",
      "source": [
        "print(f\"FACER Total: {len(y_facer)}\")\n",
        "print(f\"NIL Total: {len(y_nil)}\")\n",
        "print(f\"CodeBERT Total: {len(y_code_bert)}\")"
      ],
      "metadata": {
        "colab": {
          "base_uri": "https://localhost:8080/"
        },
        "id": "bngRAbRKwDMs",
        "outputId": "006cae9a-72d6-479b-fcaa-ea5540801b67"
      },
      "execution_count": null,
      "outputs": [
        {
          "output_type": "stream",
          "name": "stdout",
          "text": [
            "FACER Total: 643\n",
            "NIL Total: 127\n",
            "CodeBERT Total: 832\n"
          ]
        }
      ]
    },
    {
      "cell_type": "code",
      "source": [
        ""
      ],
      "metadata": {
        "id": "N5OuCnXjnep_"
      },
      "execution_count": null,
      "outputs": []
    },
    {
      "cell_type": "markdown",
      "source": [
        "##Past"
      ],
      "metadata": {
        "id": "glUlRSqxb-kU"
      }
    },
    {
      "cell_type": "code",
      "source": [
        "df_nil = pd.read_csv(\"/content/semcloneNIL.csv\")\n",
        "df_code_bert = pd.read_csv(\"/content/code_bert_predictions_semantic_clone_bench_java.csv\")"
      ],
      "metadata": {
        "id": "VRbrHP86B4RF"
      },
      "execution_count": null,
      "outputs": []
    },
    {
      "cell_type": "code",
      "source": [
        "df_nil.columns"
      ],
      "metadata": {
        "colab": {
          "base_uri": "https://localhost:8080/"
        },
        "id": "SKI23dUICQW3",
        "outputId": "6f94b711-f6ed-44e1-ee47-68a5eaebebaa"
      },
      "execution_count": null,
      "outputs": [
        {
          "output_type": "execute_result",
          "data": {
            "text/plain": [
              "Index(['Stand Alone Clones', 'Clone538.java', '9', '29',\n",
              "       'Stand Alone Clones.1', 'Clone538.java.1', '31', '41'],\n",
              "      dtype='object')"
            ]
          },
          "metadata": {},
          "execution_count": 3
        }
      ]
    },
    {
      "cell_type": "code",
      "source": [
        "df_code_bert.columns"
      ],
      "metadata": {
        "colab": {
          "base_uri": "https://localhost:8080/"
        },
        "id": "Wd0t9fp725ty",
        "outputId": "e71be099-3995-4f3b-d836-cf1ec44e961d"
      },
      "execution_count": null,
      "outputs": [
        {
          "output_type": "execute_result",
          "data": {
            "text/plain": [
              "Index(['file', 'prediction'], dtype='object')"
            ]
          },
          "metadata": {},
          "execution_count": 4
        }
      ]
    },
    {
      "cell_type": "code",
      "source": [
        "df_code_bert = df_code_bert[df_code_bert[\"prediction\"] == 1]"
      ],
      "metadata": {
        "id": "cBhqeJRX4OuE"
      },
      "execution_count": null,
      "outputs": []
    },
    {
      "cell_type": "code",
      "source": [
        "# dir_A,file_A,start_line_A,end_line_A,dir_B,file_B,start_line_B,end_line_B\n",
        "df_nil.columns = [\"dir_A\",\"file_A\",\"start_line_A\",\"end_line_A\",\"dir_B\",\"file_B\",\"start_line_B\",\"end_line_B\"]"
      ],
      "metadata": {
        "id": "yBuHQ2CgB8mu"
      },
      "execution_count": null,
      "outputs": []
    },
    {
      "cell_type": "code",
      "source": [
        "df_nil = df_nil[[\"file_A\",\"start_line_A\",\"end_line_A\",\"file_B\",\"start_line_B\",\"end_line_B\"]]"
      ],
      "metadata": {
        "id": "OTQv_UF-CZCg"
      },
      "execution_count": null,
      "outputs": []
    },
    {
      "cell_type": "code",
      "source": [
        "true_positives = df_nil[df_nil[\"file_A\"] == df_nil[\"file_B\"]]"
      ],
      "metadata": {
        "id": "HJyVHMJQCjo8"
      },
      "execution_count": null,
      "outputs": []
    },
    {
      "cell_type": "code",
      "source": [
        "true_positives = true_positives[['file_A']]"
      ],
      "metadata": {
        "id": "7dQ1CooZ3Mqo"
      },
      "execution_count": null,
      "outputs": []
    },
    {
      "cell_type": "code",
      "source": [
        "true_positives.columns = ['file']"
      ],
      "metadata": {
        "id": "5sNzYPTR3aIj"
      },
      "execution_count": null,
      "outputs": []
    },
    {
      "cell_type": "code",
      "source": [
        "true_positives['prediction'] = [1]*len(true_positives)"
      ],
      "metadata": {
        "id": "GBjfFcN33fD7"
      },
      "execution_count": null,
      "outputs": []
    },
    {
      "cell_type": "code",
      "source": [
        "true_positives = true_positives.sort_values(by=\"file\")"
      ],
      "metadata": {
        "id": "8kL5BBO73q2P"
      },
      "execution_count": null,
      "outputs": []
    },
    {
      "cell_type": "code",
      "source": [
        "detected_nil = set(true_positives['file'])\n",
        "detected_code_bert = set(df_code_bert['file'])"
      ],
      "metadata": {
        "id": "uPwdFOIa38P3"
      },
      "execution_count": null,
      "outputs": []
    },
    {
      "cell_type": "code",
      "source": [
        "detected_nil_lst = list(detected_nil)\n",
        "detected_nil_lst.sort()"
      ],
      "metadata": {
        "id": "8T3K-c6O6XE1"
      },
      "execution_count": null,
      "outputs": []
    },
    {
      "cell_type": "code",
      "source": [
        "detected_code_bert_lst = list(detected_code_bert)\n",
        "detected_code_bert_lst.sort()"
      ],
      "metadata": {
        "id": "ZYeAx8l_-JHB"
      },
      "execution_count": null,
      "outputs": []
    },
    {
      "cell_type": "code",
      "source": [
        "'Clone0.java' in detected_code_bert"
      ],
      "metadata": {
        "colab": {
          "base_uri": "https://localhost:8080/"
        },
        "id": "RHcHNfZw8Qix",
        "outputId": "2b45700c-c1e4-48c0-ad31-9b1a6730ce23"
      },
      "execution_count": null,
      "outputs": [
        {
          "output_type": "execute_result",
          "data": {
            "text/plain": [
              "False"
            ]
          },
          "metadata": {},
          "execution_count": 29
        }
      ]
    },
    {
      "cell_type": "code",
      "source": [
        "for a in range(1000):\n",
        "  if not f'Clone{a}.java' in detected_code_bert:\n",
        "    print(f'Clone{a}.java')"
      ],
      "metadata": {
        "id": "VLkqvFjc-bnE"
      },
      "execution_count": null,
      "outputs": []
    },
    {
      "cell_type": "code",
      "source": [
        "print(f\"Detected by NIL: {len(detected_nil)}\")\n",
        "print(f\"Detected by Code Bert: {len(detected_code_bert)}\")\n",
        "\n",
        "overlap = len(detected_nil.intersection(detected_code_bert))\n",
        "print(f\"Overlap: {overlap}\")\n",
        "nil_only = len(detected_nil.difference(detected_code_bert))\n",
        "print(f\"Detected By NIL Only: {nil_only}\")\n",
        "code_bert_only = len(detected_code_bert.difference(detected_nil))\n",
        "print(f\"Detected By Code Bert Only: {code_bert_only}\")\n",
        "\n",
        "print(f\"Total Coverage: {overlap + nil_only + code_bert_only}\")"
      ],
      "metadata": {
        "colab": {
          "base_uri": "https://localhost:8080/"
        },
        "id": "GwUYKO9B4hVJ",
        "outputId": "ffc5471f-4c5d-43e1-9ba2-870acc134947"
      },
      "execution_count": null,
      "outputs": [
        {
          "output_type": "stream",
          "name": "stdout",
          "text": [
            "Detected by NIL: 127\n",
            "Detected by Code Bert: 832\n",
            "Overlap: 107\n",
            "Detected By NIL Only: 20\n",
            "Detected By Code Bert Only: 725\n",
            "Total Coverage: 852\n"
          ]
        }
      ]
    },
    {
      "cell_type": "markdown",
      "source": [
        "##BCE"
      ],
      "metadata": {
        "id": "LqAsVdDG6g1z"
      }
    },
    {
      "cell_type": "code",
      "source": [
        "# !rm -rf bigclonebench\n",
        "# !mkdir bigclonebench"
      ],
      "metadata": {
        "id": "eEmzq69pIO6B"
      },
      "execution_count": null,
      "outputs": []
    },
    {
      "cell_type": "code",
      "source": [
        "opening = '{'\n",
        "closing = '}'\n",
        "for idx, method in methods.items():\n",
        "  with open(f\"/content/bigclonebench/{idx}.java\", 'w') as file:\n",
        "    file.write(f\"public class Fun{idx}{opening}\\n{method}\\n{closing}\")"
      ],
      "metadata": {
        "id": "xhuKBnEsISMS"
      },
      "execution_count": null,
      "outputs": []
    },
    {
      "cell_type": "code",
      "source": [
        "!zip -r bigclonebench.zip \"/content/bigclonebench/\""
      ],
      "metadata": {
        "id": "MBx0OS8lInoG"
      },
      "execution_count": null,
      "outputs": []
    },
    {
      "cell_type": "code",
      "source": [
        "bce_results = pd.read_csv(\"/content/bce.csv\")"
      ],
      "metadata": {
        "id": "cMaEJ9oNKbAI"
      },
      "execution_count": null,
      "outputs": []
    },
    {
      "cell_type": "code",
      "source": [
        "bce_results.columns = [\"dir_A\",\"file_A\",\"start_line_A\",\"end_line_A\",\"dir_B\",\"file_B\",\"start_line_B\",\"end_line_B\"]"
      ],
      "metadata": {
        "id": "T7h5zbUmM0Nq"
      },
      "execution_count": null,
      "outputs": []
    },
    {
      "cell_type": "code",
      "source": [
        "bce_results = bce_results[[\"file_A\",\"start_line_A\",\"end_line_A\",\"file_B\",\"start_line_B\",\"end_line_B\"]]"
      ],
      "metadata": {
        "id": "Lt1rAex4M7Zq"
      },
      "execution_count": null,
      "outputs": []
    },
    {
      "cell_type": "code",
      "source": [
        "bce_results[\"clone1\"] = bce_results[\"file_A\"].map(lambda x: x.split('.')[0])\n",
        "bce_results[\"clone2\"] = bce_results[\"file_B\"].map(lambda x: x.split('.')[0])"
      ],
      "metadata": {
        "id": "BLvH6D6yNFLi"
      },
      "execution_count": null,
      "outputs": []
    },
    {
      "cell_type": "code",
      "source": [
        "bce_clone_results = bce_results[[\"clone1\", \"clone2\"]]"
      ],
      "metadata": {
        "id": "pz9ZuOL8Na36"
      },
      "execution_count": null,
      "outputs": []
    },
    {
      "cell_type": "code",
      "source": [
        "[\"label\"] = [1]*len(bce_clone_results)"
      ],
      "metadata": {
        "colab": {
          "base_uri": "https://localhost:8080/"
        },
        "id": "ROsaoPLdNj9e",
        "outputId": "806cae4a-dbc5-4cf4-bebd-7b949a3fc31d"
      },
      "execution_count": null,
      "outputs": [
        {
          "output_type": "stream",
          "name": "stderr",
          "text": [
            "/usr/local/lib/python3.7/dist-packages/ipykernel_launcher.py:1: SettingWithCopyWarning: \n",
            "A value is trying to be set on a copy of a slice from a DataFrame.\n",
            "Try using .loc[row_indexer,col_indexer] = value instead\n",
            "\n",
            "See the caveats in the documentation: https://pandas.pydata.org/pandas-docs/stable/user_guide/indexing.html#returning-a-view-versus-a-copy\n",
            "  \"\"\"Entry point for launching an IPython kernel.\n"
          ]
        }
      ]
    },
    {
      "cell_type": "code",
      "source": [
        "bce_clone_results.head()"
      ],
      "metadata": {
        "colab": {
          "base_uri": "https://localhost:8080/",
          "height": 206
        },
        "id": "xYyt77VfNtvE",
        "outputId": "1af78ee5-cf4d-42ba-d2c8-2b6950c24ab6"
      },
      "execution_count": null,
      "outputs": [
        {
          "output_type": "execute_result",
          "data": {
            "text/plain": [
              "     clone1    clone2  label\n",
              "0  13433285  19934218      1\n",
              "1  10878062   6844412      1\n",
              "2   7761195  10318835      1\n",
              "3    483411    386013      1\n",
              "4   1760355   1760352      1"
            ],
            "text/html": [
              "\n",
              "  <div id=\"df-71751d14-eb59-4ab3-a991-c013bfcb06b6\">\n",
              "    <div class=\"colab-df-container\">\n",
              "      <div>\n",
              "<style scoped>\n",
              "    .dataframe tbody tr th:only-of-type {\n",
              "        vertical-align: middle;\n",
              "    }\n",
              "\n",
              "    .dataframe tbody tr th {\n",
              "        vertical-align: top;\n",
              "    }\n",
              "\n",
              "    .dataframe thead th {\n",
              "        text-align: right;\n",
              "    }\n",
              "</style>\n",
              "<table border=\"1\" class=\"dataframe\">\n",
              "  <thead>\n",
              "    <tr style=\"text-align: right;\">\n",
              "      <th></th>\n",
              "      <th>clone1</th>\n",
              "      <th>clone2</th>\n",
              "      <th>label</th>\n",
              "    </tr>\n",
              "  </thead>\n",
              "  <tbody>\n",
              "    <tr>\n",
              "      <th>0</th>\n",
              "      <td>13433285</td>\n",
              "      <td>19934218</td>\n",
              "      <td>1</td>\n",
              "    </tr>\n",
              "    <tr>\n",
              "      <th>1</th>\n",
              "      <td>10878062</td>\n",
              "      <td>6844412</td>\n",
              "      <td>1</td>\n",
              "    </tr>\n",
              "    <tr>\n",
              "      <th>2</th>\n",
              "      <td>7761195</td>\n",
              "      <td>10318835</td>\n",
              "      <td>1</td>\n",
              "    </tr>\n",
              "    <tr>\n",
              "      <th>3</th>\n",
              "      <td>483411</td>\n",
              "      <td>386013</td>\n",
              "      <td>1</td>\n",
              "    </tr>\n",
              "    <tr>\n",
              "      <th>4</th>\n",
              "      <td>1760355</td>\n",
              "      <td>1760352</td>\n",
              "      <td>1</td>\n",
              "    </tr>\n",
              "  </tbody>\n",
              "</table>\n",
              "</div>\n",
              "      <button class=\"colab-df-convert\" onclick=\"convertToInteractive('df-71751d14-eb59-4ab3-a991-c013bfcb06b6')\"\n",
              "              title=\"Convert this dataframe to an interactive table.\"\n",
              "              style=\"display:none;\">\n",
              "        \n",
              "  <svg xmlns=\"http://www.w3.org/2000/svg\" height=\"24px\"viewBox=\"0 0 24 24\"\n",
              "       width=\"24px\">\n",
              "    <path d=\"M0 0h24v24H0V0z\" fill=\"none\"/>\n",
              "    <path d=\"M18.56 5.44l.94 2.06.94-2.06 2.06-.94-2.06-.94-.94-2.06-.94 2.06-2.06.94zm-11 1L8.5 8.5l.94-2.06 2.06-.94-2.06-.94L8.5 2.5l-.94 2.06-2.06.94zm10 10l.94 2.06.94-2.06 2.06-.94-2.06-.94-.94-2.06-.94 2.06-2.06.94z\"/><path d=\"M17.41 7.96l-1.37-1.37c-.4-.4-.92-.59-1.43-.59-.52 0-1.04.2-1.43.59L10.3 9.45l-7.72 7.72c-.78.78-.78 2.05 0 2.83L4 21.41c.39.39.9.59 1.41.59.51 0 1.02-.2 1.41-.59l7.78-7.78 2.81-2.81c.8-.78.8-2.07 0-2.86zM5.41 20L4 18.59l7.72-7.72 1.47 1.35L5.41 20z\"/>\n",
              "  </svg>\n",
              "      </button>\n",
              "      \n",
              "  <style>\n",
              "    .colab-df-container {\n",
              "      display:flex;\n",
              "      flex-wrap:wrap;\n",
              "      gap: 12px;\n",
              "    }\n",
              "\n",
              "    .colab-df-convert {\n",
              "      background-color: #E8F0FE;\n",
              "      border: none;\n",
              "      border-radius: 50%;\n",
              "      cursor: pointer;\n",
              "      display: none;\n",
              "      fill: #1967D2;\n",
              "      height: 32px;\n",
              "      padding: 0 0 0 0;\n",
              "      width: 32px;\n",
              "    }\n",
              "\n",
              "    .colab-df-convert:hover {\n",
              "      background-color: #E2EBFA;\n",
              "      box-shadow: 0px 1px 2px rgba(60, 64, 67, 0.3), 0px 1px 3px 1px rgba(60, 64, 67, 0.15);\n",
              "      fill: #174EA6;\n",
              "    }\n",
              "\n",
              "    [theme=dark] .colab-df-convert {\n",
              "      background-color: #3B4455;\n",
              "      fill: #D2E3FC;\n",
              "    }\n",
              "\n",
              "    [theme=dark] .colab-df-convert:hover {\n",
              "      background-color: #434B5C;\n",
              "      box-shadow: 0px 1px 3px 1px rgba(0, 0, 0, 0.15);\n",
              "      filter: drop-shadow(0px 1px 2px rgba(0, 0, 0, 0.3));\n",
              "      fill: #FFFFFF;\n",
              "    }\n",
              "  </style>\n",
              "\n",
              "      <script>\n",
              "        const buttonEl =\n",
              "          document.querySelector('#df-71751d14-eb59-4ab3-a991-c013bfcb06b6 button.colab-df-convert');\n",
              "        buttonEl.style.display =\n",
              "          google.colab.kernel.accessAllowed ? 'block' : 'none';\n",
              "\n",
              "        async function convertToInteractive(key) {\n",
              "          const element = document.querySelector('#df-71751d14-eb59-4ab3-a991-c013bfcb06b6');\n",
              "          const dataTable =\n",
              "            await google.colab.kernel.invokeFunction('convertToInteractive',\n",
              "                                                     [key], {});\n",
              "          if (!dataTable) return;\n",
              "\n",
              "          const docLinkHtml = 'Like what you see? Visit the ' +\n",
              "            '<a target=\"_blank\" href=https://colab.research.google.com/notebooks/data_table.ipynb>data table notebook</a>'\n",
              "            + ' to learn more about interactive tables.';\n",
              "          element.innerHTML = '';\n",
              "          dataTable['output_type'] = 'display_data';\n",
              "          await google.colab.output.renderOutput(dataTable, element);\n",
              "          const docLink = document.createElement('div');\n",
              "          docLink.innerHTML = docLinkHtml;\n",
              "          element.appendChild(docLink);\n",
              "        }\n",
              "      </script>\n",
              "    </div>\n",
              "  </div>\n",
              "  "
            ]
          },
          "metadata": {},
          "execution_count": 54
        }
      ]
    },
    {
      "cell_type": "code",
      "source": [
        "bce_test = pd.read_csv(\"/content/test.txt\", sep=\"\\t\", header=None)\n",
        "bce_test.columns = [\"clone1\", \"clone2\", \"label\"]"
      ],
      "metadata": {
        "id": "DWQUxpsWN_4d"
      },
      "execution_count": null,
      "outputs": []
    },
    {
      "cell_type": "code",
      "source": [
        "bce_test.head()"
      ],
      "metadata": {
        "colab": {
          "base_uri": "https://localhost:8080/",
          "height": 206
        },
        "id": "WAJdBkMaOClI",
        "outputId": "a055a280-77af-4507-c702-27f68ff1b2dd"
      },
      "execution_count": null,
      "outputs": [
        {
          "output_type": "execute_result",
          "data": {
            "text/plain": [
              "     clone1    clone2  label\n",
              "0   2381663   4458076      0\n",
              "1   3809087  15757836      0\n",
              "2   6987642   4921631      0\n",
              "3  21316706   4168534      0\n",
              "4   4798332   1473212      0"
            ],
            "text/html": [
              "\n",
              "  <div id=\"df-c2f84ece-b6e2-4fc1-adcc-dbbefe2ed0bd\">\n",
              "    <div class=\"colab-df-container\">\n",
              "      <div>\n",
              "<style scoped>\n",
              "    .dataframe tbody tr th:only-of-type {\n",
              "        vertical-align: middle;\n",
              "    }\n",
              "\n",
              "    .dataframe tbody tr th {\n",
              "        vertical-align: top;\n",
              "    }\n",
              "\n",
              "    .dataframe thead th {\n",
              "        text-align: right;\n",
              "    }\n",
              "</style>\n",
              "<table border=\"1\" class=\"dataframe\">\n",
              "  <thead>\n",
              "    <tr style=\"text-align: right;\">\n",
              "      <th></th>\n",
              "      <th>clone1</th>\n",
              "      <th>clone2</th>\n",
              "      <th>label</th>\n",
              "    </tr>\n",
              "  </thead>\n",
              "  <tbody>\n",
              "    <tr>\n",
              "      <th>0</th>\n",
              "      <td>2381663</td>\n",
              "      <td>4458076</td>\n",
              "      <td>0</td>\n",
              "    </tr>\n",
              "    <tr>\n",
              "      <th>1</th>\n",
              "      <td>3809087</td>\n",
              "      <td>15757836</td>\n",
              "      <td>0</td>\n",
              "    </tr>\n",
              "    <tr>\n",
              "      <th>2</th>\n",
              "      <td>6987642</td>\n",
              "      <td>4921631</td>\n",
              "      <td>0</td>\n",
              "    </tr>\n",
              "    <tr>\n",
              "      <th>3</th>\n",
              "      <td>21316706</td>\n",
              "      <td>4168534</td>\n",
              "      <td>0</td>\n",
              "    </tr>\n",
              "    <tr>\n",
              "      <th>4</th>\n",
              "      <td>4798332</td>\n",
              "      <td>1473212</td>\n",
              "      <td>0</td>\n",
              "    </tr>\n",
              "  </tbody>\n",
              "</table>\n",
              "</div>\n",
              "      <button class=\"colab-df-convert\" onclick=\"convertToInteractive('df-c2f84ece-b6e2-4fc1-adcc-dbbefe2ed0bd')\"\n",
              "              title=\"Convert this dataframe to an interactive table.\"\n",
              "              style=\"display:none;\">\n",
              "        \n",
              "  <svg xmlns=\"http://www.w3.org/2000/svg\" height=\"24px\"viewBox=\"0 0 24 24\"\n",
              "       width=\"24px\">\n",
              "    <path d=\"M0 0h24v24H0V0z\" fill=\"none\"/>\n",
              "    <path d=\"M18.56 5.44l.94 2.06.94-2.06 2.06-.94-2.06-.94-.94-2.06-.94 2.06-2.06.94zm-11 1L8.5 8.5l.94-2.06 2.06-.94-2.06-.94L8.5 2.5l-.94 2.06-2.06.94zm10 10l.94 2.06.94-2.06 2.06-.94-2.06-.94-.94-2.06-.94 2.06-2.06.94z\"/><path d=\"M17.41 7.96l-1.37-1.37c-.4-.4-.92-.59-1.43-.59-.52 0-1.04.2-1.43.59L10.3 9.45l-7.72 7.72c-.78.78-.78 2.05 0 2.83L4 21.41c.39.39.9.59 1.41.59.51 0 1.02-.2 1.41-.59l7.78-7.78 2.81-2.81c.8-.78.8-2.07 0-2.86zM5.41 20L4 18.59l7.72-7.72 1.47 1.35L5.41 20z\"/>\n",
              "  </svg>\n",
              "      </button>\n",
              "      \n",
              "  <style>\n",
              "    .colab-df-container {\n",
              "      display:flex;\n",
              "      flex-wrap:wrap;\n",
              "      gap: 12px;\n",
              "    }\n",
              "\n",
              "    .colab-df-convert {\n",
              "      background-color: #E8F0FE;\n",
              "      border: none;\n",
              "      border-radius: 50%;\n",
              "      cursor: pointer;\n",
              "      display: none;\n",
              "      fill: #1967D2;\n",
              "      height: 32px;\n",
              "      padding: 0 0 0 0;\n",
              "      width: 32px;\n",
              "    }\n",
              "\n",
              "    .colab-df-convert:hover {\n",
              "      background-color: #E2EBFA;\n",
              "      box-shadow: 0px 1px 2px rgba(60, 64, 67, 0.3), 0px 1px 3px 1px rgba(60, 64, 67, 0.15);\n",
              "      fill: #174EA6;\n",
              "    }\n",
              "\n",
              "    [theme=dark] .colab-df-convert {\n",
              "      background-color: #3B4455;\n",
              "      fill: #D2E3FC;\n",
              "    }\n",
              "\n",
              "    [theme=dark] .colab-df-convert:hover {\n",
              "      background-color: #434B5C;\n",
              "      box-shadow: 0px 1px 3px 1px rgba(0, 0, 0, 0.15);\n",
              "      filter: drop-shadow(0px 1px 2px rgba(0, 0, 0, 0.3));\n",
              "      fill: #FFFFFF;\n",
              "    }\n",
              "  </style>\n",
              "\n",
              "      <script>\n",
              "        const buttonEl =\n",
              "          document.querySelector('#df-c2f84ece-b6e2-4fc1-adcc-dbbefe2ed0bd button.colab-df-convert');\n",
              "        buttonEl.style.display =\n",
              "          google.colab.kernel.accessAllowed ? 'block' : 'none';\n",
              "\n",
              "        async function convertToInteractive(key) {\n",
              "          const element = document.querySelector('#df-c2f84ece-b6e2-4fc1-adcc-dbbefe2ed0bd');\n",
              "          const dataTable =\n",
              "            await google.colab.kernel.invokeFunction('convertToInteractive',\n",
              "                                                     [key], {});\n",
              "          if (!dataTable) return;\n",
              "\n",
              "          const docLinkHtml = 'Like what you see? Visit the ' +\n",
              "            '<a target=\"_blank\" href=https://colab.research.google.com/notebooks/data_table.ipynb>data table notebook</a>'\n",
              "            + ' to learn more about interactive tables.';\n",
              "          element.innerHTML = '';\n",
              "          dataTable['output_type'] = 'display_data';\n",
              "          await google.colab.output.renderOutput(dataTable, element);\n",
              "          const docLink = document.createElement('div');\n",
              "          docLink.innerHTML = docLinkHtml;\n",
              "          element.appendChild(docLink);\n",
              "        }\n",
              "      </script>\n",
              "    </div>\n",
              "  </div>\n",
              "  "
            ]
          },
          "metadata": {},
          "execution_count": 61
        }
      ]
    },
    {
      "cell_type": "code",
      "source": [
        "%%capture\n",
        "import nltk\n",
        "nltk.download('words')"
      ],
      "metadata": {
        "id": "bNE_YXpnwnlC"
      },
      "execution_count": null,
      "outputs": []
    },
    {
      "cell_type": "code",
      "source": [
        "english_vocab = set(w.lower() for w in nltk.corpus.words.words())"
      ],
      "metadata": {
        "id": "T0n5kvDFx2mk"
      },
      "execution_count": null,
      "outputs": []
    },
    {
      "cell_type": "code",
      "source": [
        "A = 'qweasyfghj'\n",
        "for a in A:\n",
        "  for b in A:\n",
        "    w = f\"lo{a}{b}y\"\n",
        "    if w in english_vocab:\n",
        "      print(w)"
      ],
      "metadata": {
        "colab": {
          "base_uri": "https://localhost:8080/"
        },
        "id": "r0odTwpvv08z",
        "outputId": "0b9ecd49-1e7e-48b6-8eb6-29709391a1b8"
      },
      "execution_count": null,
      "outputs": [
        {
          "output_type": "stream",
          "name": "stdout",
          "text": [
            "lowly\n",
            "loopy\n",
            "loppy\n",
            "lolly\n",
            "locky\n"
          ]
        }
      ]
    },
    {
      "cell_type": "code",
      "source": [
        ""
      ],
      "metadata": {
        "id": "pJyOPuNp2ko3"
      },
      "execution_count": null,
      "outputs": []
    }
  ]
}